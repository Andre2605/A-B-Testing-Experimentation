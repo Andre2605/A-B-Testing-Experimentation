{
  "nbformat": 4,
  "nbformat_minor": 0,
  "metadata": {
    "colab": {
      "provenance": [],
      "collapsed_sections": [
        "YIe9QASlYHto",
        "Y9kbC05Wayvt",
        "Jn9RgNYSgL7I",
        "hO4TTm07YUyJ",
        "4FnpnuGjgk-R",
        "WK5If3G6qhiK",
        "Ie2Z4Ew7qpol",
        "xFSylJyIw2xl",
        "jiGHmKqEzj8C",
        "TXheufsx0-sj"
      ],
      "authorship_tag": "ABX9TyNDaDP+QNy2GulCQZ7le4JY",
      "include_colab_link": true
    },
    "kernelspec": {
      "name": "python3",
      "display_name": "Python 3"
    },
    "language_info": {
      "name": "python"
    }
  },
  "cells": [
    {
      "cell_type": "markdown",
      "metadata": {
        "id": "view-in-github",
        "colab_type": "text"
      },
      "source": [
        "<a href=\"https://colab.research.google.com/github/Andre2605/A-B-Testing-Experimentation/blob/main/A_B_Testing_Marketing_for_Hat_Selling_Company.ipynb\" target=\"_parent\"><img src=\"https://colab.research.google.com/assets/colab-badge.svg\" alt=\"Open In Colab\"/></a>"
      ]
    },
    {
      "cell_type": "markdown",
      "source": [
        "**Context**\n",
        "\n",
        "A hat-selling company, called Crown Company, has been running paid advertisements using Facebook Ads to sell their products. However, due to the massive growth of TikTok Ads, they are now considering switching and expanding their market presence on TikTok as well.\n",
        "\n",
        "To make an informed decision, they want to conduct a test to measure the effectiveness of TikTok Ads in driving hat sales. The average selling price of a hat is $5.\n",
        "\n",
        "After conducting a 40-day experiment by allocating their marketing budget between TikTok and Facebook, the sales data has been collected to compare the performance of these two platforms.\n",
        "\n",
        "**Business Problem**\n",
        "\n",
        "As a company that will advertise on Facebook and Tiktok, we want to understand which option is more advantageous for us.\n",
        "\n",
        "1. Which of these two options will increase our number of earnings?\n",
        "2. Which of these two options will increase our number of CTR?\n",
        "3. Is there a significant difference between the two options?\n",
        "\n",
        "\n",
        "**Task Details**\n",
        "\n",
        "1. Importing Libraries and Data\n",
        "2. Data Preprocessing\n",
        "3. Analyse\n",
        "4. A/B Test\n",
        "5. Summary and Further Discussion\n",
        "\n",
        "**Attribute Information:**\n",
        "\n",
        "- Impression : Ad impressions\n",
        "- Click : Number of clicks on the displayed ad\n",
        "- Purchase : The number of products purchased after the ads clicked\n",
        "- Earning: Earnings after purchased products"
      ],
      "metadata": {
        "id": "5d7fuESJURaP"
      }
    },
    {
      "cell_type": "code",
      "source": [
        "from google.colab import drive\n",
        "drive.mount('/content/drive')"
      ],
      "metadata": {
        "colab": {
          "base_uri": "https://localhost:8080/"
        },
        "id": "BqiaoV0IXid1",
        "outputId": "0dc59fdd-99fc-44c2-c843-f698797b8579"
      },
      "execution_count": null,
      "outputs": [
        {
          "output_type": "stream",
          "name": "stdout",
          "text": [
            "Drive already mounted at /content/drive; to attempt to forcibly remount, call drive.mount(\"/content/drive\", force_remount=True).\n"
          ]
        }
      ]
    },
    {
      "cell_type": "markdown",
      "source": [
        "# Importing Libraries and Data"
      ],
      "metadata": {
        "id": "YIe9QASlYHto"
      }
    },
    {
      "cell_type": "code",
      "execution_count": null,
      "metadata": {
        "id": "82OrfQXuUDI3"
      },
      "outputs": [],
      "source": [
        "import numpy as np\n",
        "import pandas as pd\n",
        "import matplotlib.pyplot as plt"
      ]
    },
    {
      "cell_type": "code",
      "source": [
        "control_df = pd.read_excel(\"/content/drive/MyDrive/Data Sets/ab_testing.xlsx\", sheet_name='Control Group')# maximum bidding\n",
        "treatment_df = pd.read_excel(\"/content/drive/MyDrive/Data Sets/ab_testing.xlsx\", sheet_name='Test Group') # average bidding"
      ],
      "metadata": {
        "id": "G7fldESpXfnr"
      },
      "execution_count": null,
      "outputs": []
    },
    {
      "cell_type": "code",
      "source": [
        "control_df.head()"
      ],
      "metadata": {
        "colab": {
          "base_uri": "https://localhost:8080/"
        },
        "id": "fU79C_C8X2c3",
        "outputId": "029e5f11-93ff-4bcb-b110-abb2de283e21"
      },
      "execution_count": null,
      "outputs": [
        {
          "output_type": "execute_result",
          "data": {
            "text/plain": [
              "      Impression        Click    Purchase      Earning\n",
              "0   82529.459271  6090.077317  665.211255  2311.277143\n",
              "1   98050.451926  3382.861786  315.084895  1742.806855\n",
              "2   82696.023549  4167.965750  458.083738  1797.827447\n",
              "3  109914.400398  4910.882240  487.090773  1696.229178\n",
              "4  108457.762630  5987.655811  441.034050  1543.720179"
            ],
            "text/html": [
              "\n",
              "\n",
              "  <div id=\"df-7dabd417-7a0c-4fee-a3d0-c2887b052539\">\n",
              "    <div class=\"colab-df-container\">\n",
              "      <div>\n",
              "<style scoped>\n",
              "    .dataframe tbody tr th:only-of-type {\n",
              "        vertical-align: middle;\n",
              "    }\n",
              "\n",
              "    .dataframe tbody tr th {\n",
              "        vertical-align: top;\n",
              "    }\n",
              "\n",
              "    .dataframe thead th {\n",
              "        text-align: right;\n",
              "    }\n",
              "</style>\n",
              "<table border=\"1\" class=\"dataframe\">\n",
              "  <thead>\n",
              "    <tr style=\"text-align: right;\">\n",
              "      <th></th>\n",
              "      <th>Impression</th>\n",
              "      <th>Click</th>\n",
              "      <th>Purchase</th>\n",
              "      <th>Earning</th>\n",
              "    </tr>\n",
              "  </thead>\n",
              "  <tbody>\n",
              "    <tr>\n",
              "      <th>0</th>\n",
              "      <td>82529.459271</td>\n",
              "      <td>6090.077317</td>\n",
              "      <td>665.211255</td>\n",
              "      <td>2311.277143</td>\n",
              "    </tr>\n",
              "    <tr>\n",
              "      <th>1</th>\n",
              "      <td>98050.451926</td>\n",
              "      <td>3382.861786</td>\n",
              "      <td>315.084895</td>\n",
              "      <td>1742.806855</td>\n",
              "    </tr>\n",
              "    <tr>\n",
              "      <th>2</th>\n",
              "      <td>82696.023549</td>\n",
              "      <td>4167.965750</td>\n",
              "      <td>458.083738</td>\n",
              "      <td>1797.827447</td>\n",
              "    </tr>\n",
              "    <tr>\n",
              "      <th>3</th>\n",
              "      <td>109914.400398</td>\n",
              "      <td>4910.882240</td>\n",
              "      <td>487.090773</td>\n",
              "      <td>1696.229178</td>\n",
              "    </tr>\n",
              "    <tr>\n",
              "      <th>4</th>\n",
              "      <td>108457.762630</td>\n",
              "      <td>5987.655811</td>\n",
              "      <td>441.034050</td>\n",
              "      <td>1543.720179</td>\n",
              "    </tr>\n",
              "  </tbody>\n",
              "</table>\n",
              "</div>\n",
              "      <button class=\"colab-df-convert\" onclick=\"convertToInteractive('df-7dabd417-7a0c-4fee-a3d0-c2887b052539')\"\n",
              "              title=\"Convert this dataframe to an interactive table.\"\n",
              "              style=\"display:none;\">\n",
              "\n",
              "  <svg xmlns=\"http://www.w3.org/2000/svg\" height=\"24px\"viewBox=\"0 0 24 24\"\n",
              "       width=\"24px\">\n",
              "    <path d=\"M0 0h24v24H0V0z\" fill=\"none\"/>\n",
              "    <path d=\"M18.56 5.44l.94 2.06.94-2.06 2.06-.94-2.06-.94-.94-2.06-.94 2.06-2.06.94zm-11 1L8.5 8.5l.94-2.06 2.06-.94-2.06-.94L8.5 2.5l-.94 2.06-2.06.94zm10 10l.94 2.06.94-2.06 2.06-.94-2.06-.94-.94-2.06-.94 2.06-2.06.94z\"/><path d=\"M17.41 7.96l-1.37-1.37c-.4-.4-.92-.59-1.43-.59-.52 0-1.04.2-1.43.59L10.3 9.45l-7.72 7.72c-.78.78-.78 2.05 0 2.83L4 21.41c.39.39.9.59 1.41.59.51 0 1.02-.2 1.41-.59l7.78-7.78 2.81-2.81c.8-.78.8-2.07 0-2.86zM5.41 20L4 18.59l7.72-7.72 1.47 1.35L5.41 20z\"/>\n",
              "  </svg>\n",
              "      </button>\n",
              "\n",
              "\n",
              "\n",
              "    <div id=\"df-60f8a107-e486-42fe-aa93-83ff9d540417\">\n",
              "      <button class=\"colab-df-quickchart\" onclick=\"quickchart('df-60f8a107-e486-42fe-aa93-83ff9d540417')\"\n",
              "              title=\"Suggest charts.\"\n",
              "              style=\"display:none;\">\n",
              "\n",
              "<svg xmlns=\"http://www.w3.org/2000/svg\" height=\"24px\"viewBox=\"0 0 24 24\"\n",
              "     width=\"24px\">\n",
              "    <g>\n",
              "        <path d=\"M19 3H5c-1.1 0-2 .9-2 2v14c0 1.1.9 2 2 2h14c1.1 0 2-.9 2-2V5c0-1.1-.9-2-2-2zM9 17H7v-7h2v7zm4 0h-2V7h2v10zm4 0h-2v-4h2v4z\"/>\n",
              "    </g>\n",
              "</svg>\n",
              "      </button>\n",
              "    </div>\n",
              "\n",
              "<style>\n",
              "  .colab-df-quickchart {\n",
              "    background-color: #E8F0FE;\n",
              "    border: none;\n",
              "    border-radius: 50%;\n",
              "    cursor: pointer;\n",
              "    display: none;\n",
              "    fill: #1967D2;\n",
              "    height: 32px;\n",
              "    padding: 0 0 0 0;\n",
              "    width: 32px;\n",
              "  }\n",
              "\n",
              "  .colab-df-quickchart:hover {\n",
              "    background-color: #E2EBFA;\n",
              "    box-shadow: 0px 1px 2px rgba(60, 64, 67, 0.3), 0px 1px 3px 1px rgba(60, 64, 67, 0.15);\n",
              "    fill: #174EA6;\n",
              "  }\n",
              "\n",
              "  [theme=dark] .colab-df-quickchart {\n",
              "    background-color: #3B4455;\n",
              "    fill: #D2E3FC;\n",
              "  }\n",
              "\n",
              "  [theme=dark] .colab-df-quickchart:hover {\n",
              "    background-color: #434B5C;\n",
              "    box-shadow: 0px 1px 3px 1px rgba(0, 0, 0, 0.15);\n",
              "    filter: drop-shadow(0px 1px 2px rgba(0, 0, 0, 0.3));\n",
              "    fill: #FFFFFF;\n",
              "  }\n",
              "</style>\n",
              "\n",
              "    <script>\n",
              "      async function quickchart(key) {\n",
              "        const containerElement = document.querySelector('#' + key);\n",
              "        const charts = await google.colab.kernel.invokeFunction(\n",
              "            'suggestCharts', [key], {});\n",
              "      }\n",
              "    </script>\n",
              "\n",
              "      <script>\n",
              "\n",
              "function displayQuickchartButton(domScope) {\n",
              "  let quickchartButtonEl =\n",
              "    domScope.querySelector('#df-60f8a107-e486-42fe-aa93-83ff9d540417 button.colab-df-quickchart');\n",
              "  quickchartButtonEl.style.display =\n",
              "    google.colab.kernel.accessAllowed ? 'block' : 'none';\n",
              "}\n",
              "\n",
              "        displayQuickchartButton(document);\n",
              "      </script>\n",
              "      <style>\n",
              "    .colab-df-container {\n",
              "      display:flex;\n",
              "      flex-wrap:wrap;\n",
              "      gap: 12px;\n",
              "    }\n",
              "\n",
              "    .colab-df-convert {\n",
              "      background-color: #E8F0FE;\n",
              "      border: none;\n",
              "      border-radius: 50%;\n",
              "      cursor: pointer;\n",
              "      display: none;\n",
              "      fill: #1967D2;\n",
              "      height: 32px;\n",
              "      padding: 0 0 0 0;\n",
              "      width: 32px;\n",
              "    }\n",
              "\n",
              "    .colab-df-convert:hover {\n",
              "      background-color: #E2EBFA;\n",
              "      box-shadow: 0px 1px 2px rgba(60, 64, 67, 0.3), 0px 1px 3px 1px rgba(60, 64, 67, 0.15);\n",
              "      fill: #174EA6;\n",
              "    }\n",
              "\n",
              "    [theme=dark] .colab-df-convert {\n",
              "      background-color: #3B4455;\n",
              "      fill: #D2E3FC;\n",
              "    }\n",
              "\n",
              "    [theme=dark] .colab-df-convert:hover {\n",
              "      background-color: #434B5C;\n",
              "      box-shadow: 0px 1px 3px 1px rgba(0, 0, 0, 0.15);\n",
              "      filter: drop-shadow(0px 1px 2px rgba(0, 0, 0, 0.3));\n",
              "      fill: #FFFFFF;\n",
              "    }\n",
              "  </style>\n",
              "\n",
              "      <script>\n",
              "        const buttonEl =\n",
              "          document.querySelector('#df-7dabd417-7a0c-4fee-a3d0-c2887b052539 button.colab-df-convert');\n",
              "        buttonEl.style.display =\n",
              "          google.colab.kernel.accessAllowed ? 'block' : 'none';\n",
              "\n",
              "        async function convertToInteractive(key) {\n",
              "          const element = document.querySelector('#df-7dabd417-7a0c-4fee-a3d0-c2887b052539');\n",
              "          const dataTable =\n",
              "            await google.colab.kernel.invokeFunction('convertToInteractive',\n",
              "                                                     [key], {});\n",
              "          if (!dataTable) return;\n",
              "\n",
              "          const docLinkHtml = 'Like what you see? Visit the ' +\n",
              "            '<a target=\"_blank\" href=https://colab.research.google.com/notebooks/data_table.ipynb>data table notebook</a>'\n",
              "            + ' to learn more about interactive tables.';\n",
              "          element.innerHTML = '';\n",
              "          dataTable['output_type'] = 'display_data';\n",
              "          await google.colab.output.renderOutput(dataTable, element);\n",
              "          const docLink = document.createElement('div');\n",
              "          docLink.innerHTML = docLinkHtml;\n",
              "          element.appendChild(docLink);\n",
              "        }\n",
              "      </script>\n",
              "    </div>\n",
              "  </div>\n"
            ]
          },
          "metadata": {},
          "execution_count": 4
        }
      ]
    },
    {
      "cell_type": "code",
      "source": [
        "treatment_df.head()"
      ],
      "metadata": {
        "colab": {
          "base_uri": "https://localhost:8080/"
        },
        "id": "R8ueUGg2X6Rl",
        "outputId": "41f6a40a-f12c-4302-df4c-1c0792042255"
      },
      "execution_count": null,
      "outputs": [
        {
          "output_type": "execute_result",
          "data": {
            "text/plain": [
              "      Impression        Click    Purchase      Earning\n",
              "0  120103.503796  3216.547958  702.160346  1939.611243\n",
              "1  134775.943363  3635.082422  834.054286  2929.405820\n",
              "2  107806.620788  3057.143560  422.934258  2526.244877\n",
              "3  116445.275526  4650.473911  429.033535  2281.428574\n",
              "4  145082.516838  5201.387724  749.860442  2781.697521"
            ],
            "text/html": [
              "\n",
              "\n",
              "  <div id=\"df-bcd879dc-f40e-4e39-8b81-848aee00169e\">\n",
              "    <div class=\"colab-df-container\">\n",
              "      <div>\n",
              "<style scoped>\n",
              "    .dataframe tbody tr th:only-of-type {\n",
              "        vertical-align: middle;\n",
              "    }\n",
              "\n",
              "    .dataframe tbody tr th {\n",
              "        vertical-align: top;\n",
              "    }\n",
              "\n",
              "    .dataframe thead th {\n",
              "        text-align: right;\n",
              "    }\n",
              "</style>\n",
              "<table border=\"1\" class=\"dataframe\">\n",
              "  <thead>\n",
              "    <tr style=\"text-align: right;\">\n",
              "      <th></th>\n",
              "      <th>Impression</th>\n",
              "      <th>Click</th>\n",
              "      <th>Purchase</th>\n",
              "      <th>Earning</th>\n",
              "    </tr>\n",
              "  </thead>\n",
              "  <tbody>\n",
              "    <tr>\n",
              "      <th>0</th>\n",
              "      <td>120103.503796</td>\n",
              "      <td>3216.547958</td>\n",
              "      <td>702.160346</td>\n",
              "      <td>1939.611243</td>\n",
              "    </tr>\n",
              "    <tr>\n",
              "      <th>1</th>\n",
              "      <td>134775.943363</td>\n",
              "      <td>3635.082422</td>\n",
              "      <td>834.054286</td>\n",
              "      <td>2929.405820</td>\n",
              "    </tr>\n",
              "    <tr>\n",
              "      <th>2</th>\n",
              "      <td>107806.620788</td>\n",
              "      <td>3057.143560</td>\n",
              "      <td>422.934258</td>\n",
              "      <td>2526.244877</td>\n",
              "    </tr>\n",
              "    <tr>\n",
              "      <th>3</th>\n",
              "      <td>116445.275526</td>\n",
              "      <td>4650.473911</td>\n",
              "      <td>429.033535</td>\n",
              "      <td>2281.428574</td>\n",
              "    </tr>\n",
              "    <tr>\n",
              "      <th>4</th>\n",
              "      <td>145082.516838</td>\n",
              "      <td>5201.387724</td>\n",
              "      <td>749.860442</td>\n",
              "      <td>2781.697521</td>\n",
              "    </tr>\n",
              "  </tbody>\n",
              "</table>\n",
              "</div>\n",
              "      <button class=\"colab-df-convert\" onclick=\"convertToInteractive('df-bcd879dc-f40e-4e39-8b81-848aee00169e')\"\n",
              "              title=\"Convert this dataframe to an interactive table.\"\n",
              "              style=\"display:none;\">\n",
              "\n",
              "  <svg xmlns=\"http://www.w3.org/2000/svg\" height=\"24px\"viewBox=\"0 0 24 24\"\n",
              "       width=\"24px\">\n",
              "    <path d=\"M0 0h24v24H0V0z\" fill=\"none\"/>\n",
              "    <path d=\"M18.56 5.44l.94 2.06.94-2.06 2.06-.94-2.06-.94-.94-2.06-.94 2.06-2.06.94zm-11 1L8.5 8.5l.94-2.06 2.06-.94-2.06-.94L8.5 2.5l-.94 2.06-2.06.94zm10 10l.94 2.06.94-2.06 2.06-.94-2.06-.94-.94-2.06-.94 2.06-2.06.94z\"/><path d=\"M17.41 7.96l-1.37-1.37c-.4-.4-.92-.59-1.43-.59-.52 0-1.04.2-1.43.59L10.3 9.45l-7.72 7.72c-.78.78-.78 2.05 0 2.83L4 21.41c.39.39.9.59 1.41.59.51 0 1.02-.2 1.41-.59l7.78-7.78 2.81-2.81c.8-.78.8-2.07 0-2.86zM5.41 20L4 18.59l7.72-7.72 1.47 1.35L5.41 20z\"/>\n",
              "  </svg>\n",
              "      </button>\n",
              "\n",
              "\n",
              "\n",
              "    <div id=\"df-9c402e4f-69cc-402c-98c1-e47d9c6dab07\">\n",
              "      <button class=\"colab-df-quickchart\" onclick=\"quickchart('df-9c402e4f-69cc-402c-98c1-e47d9c6dab07')\"\n",
              "              title=\"Suggest charts.\"\n",
              "              style=\"display:none;\">\n",
              "\n",
              "<svg xmlns=\"http://www.w3.org/2000/svg\" height=\"24px\"viewBox=\"0 0 24 24\"\n",
              "     width=\"24px\">\n",
              "    <g>\n",
              "        <path d=\"M19 3H5c-1.1 0-2 .9-2 2v14c0 1.1.9 2 2 2h14c1.1 0 2-.9 2-2V5c0-1.1-.9-2-2-2zM9 17H7v-7h2v7zm4 0h-2V7h2v10zm4 0h-2v-4h2v4z\"/>\n",
              "    </g>\n",
              "</svg>\n",
              "      </button>\n",
              "    </div>\n",
              "\n",
              "<style>\n",
              "  .colab-df-quickchart {\n",
              "    background-color: #E8F0FE;\n",
              "    border: none;\n",
              "    border-radius: 50%;\n",
              "    cursor: pointer;\n",
              "    display: none;\n",
              "    fill: #1967D2;\n",
              "    height: 32px;\n",
              "    padding: 0 0 0 0;\n",
              "    width: 32px;\n",
              "  }\n",
              "\n",
              "  .colab-df-quickchart:hover {\n",
              "    background-color: #E2EBFA;\n",
              "    box-shadow: 0px 1px 2px rgba(60, 64, 67, 0.3), 0px 1px 3px 1px rgba(60, 64, 67, 0.15);\n",
              "    fill: #174EA6;\n",
              "  }\n",
              "\n",
              "  [theme=dark] .colab-df-quickchart {\n",
              "    background-color: #3B4455;\n",
              "    fill: #D2E3FC;\n",
              "  }\n",
              "\n",
              "  [theme=dark] .colab-df-quickchart:hover {\n",
              "    background-color: #434B5C;\n",
              "    box-shadow: 0px 1px 3px 1px rgba(0, 0, 0, 0.15);\n",
              "    filter: drop-shadow(0px 1px 2px rgba(0, 0, 0, 0.3));\n",
              "    fill: #FFFFFF;\n",
              "  }\n",
              "</style>\n",
              "\n",
              "    <script>\n",
              "      async function quickchart(key) {\n",
              "        const containerElement = document.querySelector('#' + key);\n",
              "        const charts = await google.colab.kernel.invokeFunction(\n",
              "            'suggestCharts', [key], {});\n",
              "      }\n",
              "    </script>\n",
              "\n",
              "      <script>\n",
              "\n",
              "function displayQuickchartButton(domScope) {\n",
              "  let quickchartButtonEl =\n",
              "    domScope.querySelector('#df-9c402e4f-69cc-402c-98c1-e47d9c6dab07 button.colab-df-quickchart');\n",
              "  quickchartButtonEl.style.display =\n",
              "    google.colab.kernel.accessAllowed ? 'block' : 'none';\n",
              "}\n",
              "\n",
              "        displayQuickchartButton(document);\n",
              "      </script>\n",
              "      <style>\n",
              "    .colab-df-container {\n",
              "      display:flex;\n",
              "      flex-wrap:wrap;\n",
              "      gap: 12px;\n",
              "    }\n",
              "\n",
              "    .colab-df-convert {\n",
              "      background-color: #E8F0FE;\n",
              "      border: none;\n",
              "      border-radius: 50%;\n",
              "      cursor: pointer;\n",
              "      display: none;\n",
              "      fill: #1967D2;\n",
              "      height: 32px;\n",
              "      padding: 0 0 0 0;\n",
              "      width: 32px;\n",
              "    }\n",
              "\n",
              "    .colab-df-convert:hover {\n",
              "      background-color: #E2EBFA;\n",
              "      box-shadow: 0px 1px 2px rgba(60, 64, 67, 0.3), 0px 1px 3px 1px rgba(60, 64, 67, 0.15);\n",
              "      fill: #174EA6;\n",
              "    }\n",
              "\n",
              "    [theme=dark] .colab-df-convert {\n",
              "      background-color: #3B4455;\n",
              "      fill: #D2E3FC;\n",
              "    }\n",
              "\n",
              "    [theme=dark] .colab-df-convert:hover {\n",
              "      background-color: #434B5C;\n",
              "      box-shadow: 0px 1px 3px 1px rgba(0, 0, 0, 0.15);\n",
              "      filter: drop-shadow(0px 1px 2px rgba(0, 0, 0, 0.3));\n",
              "      fill: #FFFFFF;\n",
              "    }\n",
              "  </style>\n",
              "\n",
              "      <script>\n",
              "        const buttonEl =\n",
              "          document.querySelector('#df-bcd879dc-f40e-4e39-8b81-848aee00169e button.colab-df-convert');\n",
              "        buttonEl.style.display =\n",
              "          google.colab.kernel.accessAllowed ? 'block' : 'none';\n",
              "\n",
              "        async function convertToInteractive(key) {\n",
              "          const element = document.querySelector('#df-bcd879dc-f40e-4e39-8b81-848aee00169e');\n",
              "          const dataTable =\n",
              "            await google.colab.kernel.invokeFunction('convertToInteractive',\n",
              "                                                     [key], {});\n",
              "          if (!dataTable) return;\n",
              "\n",
              "          const docLinkHtml = 'Like what you see? Visit the ' +\n",
              "            '<a target=\"_blank\" href=https://colab.research.google.com/notebooks/data_table.ipynb>data table notebook</a>'\n",
              "            + ' to learn more about interactive tables.';\n",
              "          element.innerHTML = '';\n",
              "          dataTable['output_type'] = 'display_data';\n",
              "          await google.colab.output.renderOutput(dataTable, element);\n",
              "          const docLink = document.createElement('div');\n",
              "          docLink.innerHTML = docLinkHtml;\n",
              "          element.appendChild(docLink);\n",
              "        }\n",
              "      </script>\n",
              "    </div>\n",
              "  </div>\n"
            ]
          },
          "metadata": {},
          "execution_count": 5
        }
      ]
    },
    {
      "cell_type": "code",
      "source": [
        "# Compare the description of both group of data ( MAXIMUM BIDDING VS AVERAGE BIDDING )\n",
        "desc_compare_df = pd.DataFrame ({\"Control_Impression\": control_df[\"Impression\"].describe (),\"Treatment_Impression\": treatment_df[\"Impression\"].describe (),\n",
        "                                 \"Control_Click\": control_df[\"Click\"].describe (),\"Treatment_Click\": treatment_df[\"Click\"].describe (),\n",
        "                                 \"Control_Purchase\": control_df[\"Purchase\"].describe (),\"Treatment_Purchase\": treatment_df[\"Purchase\"].describe (),\n",
        "                                 \"Control_Earning\": control_df[\"Earning\"].describe (),\"Treatment_Earning\": treatment_df[\"Earning\"].describe ()})\n",
        "\n",
        "desc_compare_df"
      ],
      "metadata": {
        "colab": {
          "base_uri": "https://localhost:8080/"
        },
        "id": "wUltQNq7aRu-",
        "outputId": "eac40a8f-aa38-4e56-f878-92c4790aa937"
      },
      "execution_count": null,
      "outputs": [
        {
          "output_type": "execute_result",
          "data": {
            "text/plain": [
              "       Control_Impression  Treatment_Impression  Control_Click  \\\n",
              "count           40.000000             40.000000      40.000000   \n",
              "mean        101711.449068         120512.411758    5100.657373   \n",
              "std          20302.157862          18807.448712    1329.985498   \n",
              "min          45475.942965          79033.834921    2189.753157   \n",
              "25%          85726.690349         112691.970770    4124.304129   \n",
              "50%          99790.701078         119291.300775    5001.220602   \n",
              "75%         115212.816543         132050.578933    5923.803596   \n",
              "max         147539.336329         158605.920483    7959.125069   \n",
              "\n",
              "       Treatment_Click  Control_Purchase  Treatment_Purchase  Control_Earning  \\\n",
              "count        40.000000         40.000000           40.000000        40.000000   \n",
              "mean       3967.549761        550.894059          582.106097      1908.568300   \n",
              "std         923.095073        134.108201          161.152513       302.917783   \n",
              "min        1836.629861        267.028943          311.629515      1253.989525   \n",
              "25%        3376.819024        470.095533          444.626828      1685.847205   \n",
              "50%        3931.359804        531.206307          551.355732      1975.160522   \n",
              "75%        4660.497911        637.957088          699.862360      2119.802784   \n",
              "max        6019.695079        801.795020          889.910460      2497.295218   \n",
              "\n",
              "       Treatment_Earning  \n",
              "count          40.000000  \n",
              "mean         2514.890733  \n",
              "std           282.730852  \n",
              "min          1939.611243  \n",
              "25%          2280.537426  \n",
              "50%          2544.666107  \n",
              "75%          2761.545405  \n",
              "max          3171.489708  "
            ],
            "text/html": [
              "\n",
              "\n",
              "  <div id=\"df-bb16ddca-ed15-4a42-b167-ec5410518cb5\">\n",
              "    <div class=\"colab-df-container\">\n",
              "      <div>\n",
              "<style scoped>\n",
              "    .dataframe tbody tr th:only-of-type {\n",
              "        vertical-align: middle;\n",
              "    }\n",
              "\n",
              "    .dataframe tbody tr th {\n",
              "        vertical-align: top;\n",
              "    }\n",
              "\n",
              "    .dataframe thead th {\n",
              "        text-align: right;\n",
              "    }\n",
              "</style>\n",
              "<table border=\"1\" class=\"dataframe\">\n",
              "  <thead>\n",
              "    <tr style=\"text-align: right;\">\n",
              "      <th></th>\n",
              "      <th>Control_Impression</th>\n",
              "      <th>Treatment_Impression</th>\n",
              "      <th>Control_Click</th>\n",
              "      <th>Treatment_Click</th>\n",
              "      <th>Control_Purchase</th>\n",
              "      <th>Treatment_Purchase</th>\n",
              "      <th>Control_Earning</th>\n",
              "      <th>Treatment_Earning</th>\n",
              "    </tr>\n",
              "  </thead>\n",
              "  <tbody>\n",
              "    <tr>\n",
              "      <th>count</th>\n",
              "      <td>40.000000</td>\n",
              "      <td>40.000000</td>\n",
              "      <td>40.000000</td>\n",
              "      <td>40.000000</td>\n",
              "      <td>40.000000</td>\n",
              "      <td>40.000000</td>\n",
              "      <td>40.000000</td>\n",
              "      <td>40.000000</td>\n",
              "    </tr>\n",
              "    <tr>\n",
              "      <th>mean</th>\n",
              "      <td>101711.449068</td>\n",
              "      <td>120512.411758</td>\n",
              "      <td>5100.657373</td>\n",
              "      <td>3967.549761</td>\n",
              "      <td>550.894059</td>\n",
              "      <td>582.106097</td>\n",
              "      <td>1908.568300</td>\n",
              "      <td>2514.890733</td>\n",
              "    </tr>\n",
              "    <tr>\n",
              "      <th>std</th>\n",
              "      <td>20302.157862</td>\n",
              "      <td>18807.448712</td>\n",
              "      <td>1329.985498</td>\n",
              "      <td>923.095073</td>\n",
              "      <td>134.108201</td>\n",
              "      <td>161.152513</td>\n",
              "      <td>302.917783</td>\n",
              "      <td>282.730852</td>\n",
              "    </tr>\n",
              "    <tr>\n",
              "      <th>min</th>\n",
              "      <td>45475.942965</td>\n",
              "      <td>79033.834921</td>\n",
              "      <td>2189.753157</td>\n",
              "      <td>1836.629861</td>\n",
              "      <td>267.028943</td>\n",
              "      <td>311.629515</td>\n",
              "      <td>1253.989525</td>\n",
              "      <td>1939.611243</td>\n",
              "    </tr>\n",
              "    <tr>\n",
              "      <th>25%</th>\n",
              "      <td>85726.690349</td>\n",
              "      <td>112691.970770</td>\n",
              "      <td>4124.304129</td>\n",
              "      <td>3376.819024</td>\n",
              "      <td>470.095533</td>\n",
              "      <td>444.626828</td>\n",
              "      <td>1685.847205</td>\n",
              "      <td>2280.537426</td>\n",
              "    </tr>\n",
              "    <tr>\n",
              "      <th>50%</th>\n",
              "      <td>99790.701078</td>\n",
              "      <td>119291.300775</td>\n",
              "      <td>5001.220602</td>\n",
              "      <td>3931.359804</td>\n",
              "      <td>531.206307</td>\n",
              "      <td>551.355732</td>\n",
              "      <td>1975.160522</td>\n",
              "      <td>2544.666107</td>\n",
              "    </tr>\n",
              "    <tr>\n",
              "      <th>75%</th>\n",
              "      <td>115212.816543</td>\n",
              "      <td>132050.578933</td>\n",
              "      <td>5923.803596</td>\n",
              "      <td>4660.497911</td>\n",
              "      <td>637.957088</td>\n",
              "      <td>699.862360</td>\n",
              "      <td>2119.802784</td>\n",
              "      <td>2761.545405</td>\n",
              "    </tr>\n",
              "    <tr>\n",
              "      <th>max</th>\n",
              "      <td>147539.336329</td>\n",
              "      <td>158605.920483</td>\n",
              "      <td>7959.125069</td>\n",
              "      <td>6019.695079</td>\n",
              "      <td>801.795020</td>\n",
              "      <td>889.910460</td>\n",
              "      <td>2497.295218</td>\n",
              "      <td>3171.489708</td>\n",
              "    </tr>\n",
              "  </tbody>\n",
              "</table>\n",
              "</div>\n",
              "      <button class=\"colab-df-convert\" onclick=\"convertToInteractive('df-bb16ddca-ed15-4a42-b167-ec5410518cb5')\"\n",
              "              title=\"Convert this dataframe to an interactive table.\"\n",
              "              style=\"display:none;\">\n",
              "\n",
              "  <svg xmlns=\"http://www.w3.org/2000/svg\" height=\"24px\"viewBox=\"0 0 24 24\"\n",
              "       width=\"24px\">\n",
              "    <path d=\"M0 0h24v24H0V0z\" fill=\"none\"/>\n",
              "    <path d=\"M18.56 5.44l.94 2.06.94-2.06 2.06-.94-2.06-.94-.94-2.06-.94 2.06-2.06.94zm-11 1L8.5 8.5l.94-2.06 2.06-.94-2.06-.94L8.5 2.5l-.94 2.06-2.06.94zm10 10l.94 2.06.94-2.06 2.06-.94-2.06-.94-.94-2.06-.94 2.06-2.06.94z\"/><path d=\"M17.41 7.96l-1.37-1.37c-.4-.4-.92-.59-1.43-.59-.52 0-1.04.2-1.43.59L10.3 9.45l-7.72 7.72c-.78.78-.78 2.05 0 2.83L4 21.41c.39.39.9.59 1.41.59.51 0 1.02-.2 1.41-.59l7.78-7.78 2.81-2.81c.8-.78.8-2.07 0-2.86zM5.41 20L4 18.59l7.72-7.72 1.47 1.35L5.41 20z\"/>\n",
              "  </svg>\n",
              "      </button>\n",
              "\n",
              "\n",
              "\n",
              "    <div id=\"df-90b911a9-6c6d-410f-ab8c-b7d87ffc2c6d\">\n",
              "      <button class=\"colab-df-quickchart\" onclick=\"quickchart('df-90b911a9-6c6d-410f-ab8c-b7d87ffc2c6d')\"\n",
              "              title=\"Suggest charts.\"\n",
              "              style=\"display:none;\">\n",
              "\n",
              "<svg xmlns=\"http://www.w3.org/2000/svg\" height=\"24px\"viewBox=\"0 0 24 24\"\n",
              "     width=\"24px\">\n",
              "    <g>\n",
              "        <path d=\"M19 3H5c-1.1 0-2 .9-2 2v14c0 1.1.9 2 2 2h14c1.1 0 2-.9 2-2V5c0-1.1-.9-2-2-2zM9 17H7v-7h2v7zm4 0h-2V7h2v10zm4 0h-2v-4h2v4z\"/>\n",
              "    </g>\n",
              "</svg>\n",
              "      </button>\n",
              "    </div>\n",
              "\n",
              "<style>\n",
              "  .colab-df-quickchart {\n",
              "    background-color: #E8F0FE;\n",
              "    border: none;\n",
              "    border-radius: 50%;\n",
              "    cursor: pointer;\n",
              "    display: none;\n",
              "    fill: #1967D2;\n",
              "    height: 32px;\n",
              "    padding: 0 0 0 0;\n",
              "    width: 32px;\n",
              "  }\n",
              "\n",
              "  .colab-df-quickchart:hover {\n",
              "    background-color: #E2EBFA;\n",
              "    box-shadow: 0px 1px 2px rgba(60, 64, 67, 0.3), 0px 1px 3px 1px rgba(60, 64, 67, 0.15);\n",
              "    fill: #174EA6;\n",
              "  }\n",
              "\n",
              "  [theme=dark] .colab-df-quickchart {\n",
              "    background-color: #3B4455;\n",
              "    fill: #D2E3FC;\n",
              "  }\n",
              "\n",
              "  [theme=dark] .colab-df-quickchart:hover {\n",
              "    background-color: #434B5C;\n",
              "    box-shadow: 0px 1px 3px 1px rgba(0, 0, 0, 0.15);\n",
              "    filter: drop-shadow(0px 1px 2px rgba(0, 0, 0, 0.3));\n",
              "    fill: #FFFFFF;\n",
              "  }\n",
              "</style>\n",
              "\n",
              "    <script>\n",
              "      async function quickchart(key) {\n",
              "        const containerElement = document.querySelector('#' + key);\n",
              "        const charts = await google.colab.kernel.invokeFunction(\n",
              "            'suggestCharts', [key], {});\n",
              "      }\n",
              "    </script>\n",
              "\n",
              "      <script>\n",
              "\n",
              "function displayQuickchartButton(domScope) {\n",
              "  let quickchartButtonEl =\n",
              "    domScope.querySelector('#df-90b911a9-6c6d-410f-ab8c-b7d87ffc2c6d button.colab-df-quickchart');\n",
              "  quickchartButtonEl.style.display =\n",
              "    google.colab.kernel.accessAllowed ? 'block' : 'none';\n",
              "}\n",
              "\n",
              "        displayQuickchartButton(document);\n",
              "      </script>\n",
              "      <style>\n",
              "    .colab-df-container {\n",
              "      display:flex;\n",
              "      flex-wrap:wrap;\n",
              "      gap: 12px;\n",
              "    }\n",
              "\n",
              "    .colab-df-convert {\n",
              "      background-color: #E8F0FE;\n",
              "      border: none;\n",
              "      border-radius: 50%;\n",
              "      cursor: pointer;\n",
              "      display: none;\n",
              "      fill: #1967D2;\n",
              "      height: 32px;\n",
              "      padding: 0 0 0 0;\n",
              "      width: 32px;\n",
              "    }\n",
              "\n",
              "    .colab-df-convert:hover {\n",
              "      background-color: #E2EBFA;\n",
              "      box-shadow: 0px 1px 2px rgba(60, 64, 67, 0.3), 0px 1px 3px 1px rgba(60, 64, 67, 0.15);\n",
              "      fill: #174EA6;\n",
              "    }\n",
              "\n",
              "    [theme=dark] .colab-df-convert {\n",
              "      background-color: #3B4455;\n",
              "      fill: #D2E3FC;\n",
              "    }\n",
              "\n",
              "    [theme=dark] .colab-df-convert:hover {\n",
              "      background-color: #434B5C;\n",
              "      box-shadow: 0px 1px 3px 1px rgba(0, 0, 0, 0.15);\n",
              "      filter: drop-shadow(0px 1px 2px rgba(0, 0, 0, 0.3));\n",
              "      fill: #FFFFFF;\n",
              "    }\n",
              "  </style>\n",
              "\n",
              "      <script>\n",
              "        const buttonEl =\n",
              "          document.querySelector('#df-bb16ddca-ed15-4a42-b167-ec5410518cb5 button.colab-df-convert');\n",
              "        buttonEl.style.display =\n",
              "          google.colab.kernel.accessAllowed ? 'block' : 'none';\n",
              "\n",
              "        async function convertToInteractive(key) {\n",
              "          const element = document.querySelector('#df-bb16ddca-ed15-4a42-b167-ec5410518cb5');\n",
              "          const dataTable =\n",
              "            await google.colab.kernel.invokeFunction('convertToInteractive',\n",
              "                                                     [key], {});\n",
              "          if (!dataTable) return;\n",
              "\n",
              "          const docLinkHtml = 'Like what you see? Visit the ' +\n",
              "            '<a target=\"_blank\" href=https://colab.research.google.com/notebooks/data_table.ipynb>data table notebook</a>'\n",
              "            + ' to learn more about interactive tables.';\n",
              "          element.innerHTML = '';\n",
              "          dataTable['output_type'] = 'display_data';\n",
              "          await google.colab.output.renderOutput(dataTable, element);\n",
              "          const docLink = document.createElement('div');\n",
              "          docLink.innerHTML = docLinkHtml;\n",
              "          element.appendChild(docLink);\n",
              "        }\n",
              "      </script>\n",
              "    </div>\n",
              "  </div>\n"
            ]
          },
          "metadata": {},
          "execution_count": 6
        }
      ]
    },
    {
      "cell_type": "markdown",
      "source": [
        "# Data Preprocessing"
      ],
      "metadata": {
        "id": "Y9kbC05Wayvt"
      }
    },
    {
      "cell_type": "code",
      "source": [
        "control_df['Purchase'] = control_df['Purchase'].round().astype(int)\n",
        "control_df['Impression'] = control_df['Impression'].round().astype(int)\n",
        "control_df['Click'] = control_df['Click'].round().astype(int)"
      ],
      "metadata": {
        "id": "AuFeGn9Gv_9Q"
      },
      "execution_count": null,
      "outputs": []
    },
    {
      "cell_type": "code",
      "source": [
        "treatment_df['Purchase'] = treatment_df['Purchase'].round().astype(int)\n",
        "treatment_df['Impression'] = treatment_df['Impression'].round().astype(int)\n",
        "treatment_df['Click'] = treatment_df['Click'].round().astype(int)"
      ],
      "metadata": {
        "id": "Z3UjMUNYwGRZ"
      },
      "execution_count": null,
      "outputs": []
    },
    {
      "cell_type": "markdown",
      "source": [
        "Rounding the `Purchase`,`Impression`,`Click` colums"
      ],
      "metadata": {
        "id": "Yr94Swj34It2"
      }
    },
    {
      "cell_type": "code",
      "source": [
        "control_df.isnull().sum()"
      ],
      "metadata": {
        "colab": {
          "base_uri": "https://localhost:8080/"
        },
        "id": "x_dIaR08a00r",
        "outputId": "00fd8560-520a-4c03-cc4a-7b9271c22c34"
      },
      "execution_count": null,
      "outputs": [
        {
          "output_type": "execute_result",
          "data": {
            "text/plain": [
              "Impression    0\n",
              "Click         0\n",
              "Purchase      0\n",
              "Earning       0\n",
              "dtype: int64"
            ]
          },
          "metadata": {},
          "execution_count": 9
        }
      ]
    },
    {
      "cell_type": "code",
      "source": [
        "treatment_df.isnull().sum()"
      ],
      "metadata": {
        "colab": {
          "base_uri": "https://localhost:8080/"
        },
        "id": "LUzubvgGa7vh",
        "outputId": "32bd3be8-ff77-4c89-ff04-c58145576af0"
      },
      "execution_count": null,
      "outputs": [
        {
          "output_type": "execute_result",
          "data": {
            "text/plain": [
              "Impression    0\n",
              "Click         0\n",
              "Purchase      0\n",
              "Earning       0\n",
              "dtype: int64"
            ]
          },
          "metadata": {},
          "execution_count": 10
        }
      ]
    },
    {
      "cell_type": "markdown",
      "source": [
        "**Null value is not detected in both data group**"
      ],
      "metadata": {
        "id": "9wk9L1-ba_kn"
      }
    },
    {
      "cell_type": "code",
      "source": [
        "control_df.corr()"
      ],
      "metadata": {
        "colab": {
          "base_uri": "https://localhost:8080/"
        },
        "id": "xzplHAXFgRAU",
        "outputId": "cbd28333-5681-4a0d-b8c9-7718484c1e03"
      },
      "execution_count": null,
      "outputs": [
        {
          "output_type": "execute_result",
          "data": {
            "text/plain": [
              "            Impression     Click  Purchase   Earning\n",
              "Impression    1.000000 -0.311438  0.214302  0.107047\n",
              "Click        -0.311438  1.000000  0.057687 -0.356688\n",
              "Purchase      0.214302  0.057687  1.000000  0.062160\n",
              "Earning       0.107047 -0.356688  0.062160  1.000000"
            ],
            "text/html": [
              "\n",
              "\n",
              "  <div id=\"df-2c538623-e865-4856-9e1e-51498452d43a\">\n",
              "    <div class=\"colab-df-container\">\n",
              "      <div>\n",
              "<style scoped>\n",
              "    .dataframe tbody tr th:only-of-type {\n",
              "        vertical-align: middle;\n",
              "    }\n",
              "\n",
              "    .dataframe tbody tr th {\n",
              "        vertical-align: top;\n",
              "    }\n",
              "\n",
              "    .dataframe thead th {\n",
              "        text-align: right;\n",
              "    }\n",
              "</style>\n",
              "<table border=\"1\" class=\"dataframe\">\n",
              "  <thead>\n",
              "    <tr style=\"text-align: right;\">\n",
              "      <th></th>\n",
              "      <th>Impression</th>\n",
              "      <th>Click</th>\n",
              "      <th>Purchase</th>\n",
              "      <th>Earning</th>\n",
              "    </tr>\n",
              "  </thead>\n",
              "  <tbody>\n",
              "    <tr>\n",
              "      <th>Impression</th>\n",
              "      <td>1.000000</td>\n",
              "      <td>-0.311438</td>\n",
              "      <td>0.214302</td>\n",
              "      <td>0.107047</td>\n",
              "    </tr>\n",
              "    <tr>\n",
              "      <th>Click</th>\n",
              "      <td>-0.311438</td>\n",
              "      <td>1.000000</td>\n",
              "      <td>0.057687</td>\n",
              "      <td>-0.356688</td>\n",
              "    </tr>\n",
              "    <tr>\n",
              "      <th>Purchase</th>\n",
              "      <td>0.214302</td>\n",
              "      <td>0.057687</td>\n",
              "      <td>1.000000</td>\n",
              "      <td>0.062160</td>\n",
              "    </tr>\n",
              "    <tr>\n",
              "      <th>Earning</th>\n",
              "      <td>0.107047</td>\n",
              "      <td>-0.356688</td>\n",
              "      <td>0.062160</td>\n",
              "      <td>1.000000</td>\n",
              "    </tr>\n",
              "  </tbody>\n",
              "</table>\n",
              "</div>\n",
              "      <button class=\"colab-df-convert\" onclick=\"convertToInteractive('df-2c538623-e865-4856-9e1e-51498452d43a')\"\n",
              "              title=\"Convert this dataframe to an interactive table.\"\n",
              "              style=\"display:none;\">\n",
              "\n",
              "  <svg xmlns=\"http://www.w3.org/2000/svg\" height=\"24px\"viewBox=\"0 0 24 24\"\n",
              "       width=\"24px\">\n",
              "    <path d=\"M0 0h24v24H0V0z\" fill=\"none\"/>\n",
              "    <path d=\"M18.56 5.44l.94 2.06.94-2.06 2.06-.94-2.06-.94-.94-2.06-.94 2.06-2.06.94zm-11 1L8.5 8.5l.94-2.06 2.06-.94-2.06-.94L8.5 2.5l-.94 2.06-2.06.94zm10 10l.94 2.06.94-2.06 2.06-.94-2.06-.94-.94-2.06-.94 2.06-2.06.94z\"/><path d=\"M17.41 7.96l-1.37-1.37c-.4-.4-.92-.59-1.43-.59-.52 0-1.04.2-1.43.59L10.3 9.45l-7.72 7.72c-.78.78-.78 2.05 0 2.83L4 21.41c.39.39.9.59 1.41.59.51 0 1.02-.2 1.41-.59l7.78-7.78 2.81-2.81c.8-.78.8-2.07 0-2.86zM5.41 20L4 18.59l7.72-7.72 1.47 1.35L5.41 20z\"/>\n",
              "  </svg>\n",
              "      </button>\n",
              "\n",
              "\n",
              "\n",
              "    <div id=\"df-6c13a2bf-a067-41b1-8614-ea240f56d4e4\">\n",
              "      <button class=\"colab-df-quickchart\" onclick=\"quickchart('df-6c13a2bf-a067-41b1-8614-ea240f56d4e4')\"\n",
              "              title=\"Suggest charts.\"\n",
              "              style=\"display:none;\">\n",
              "\n",
              "<svg xmlns=\"http://www.w3.org/2000/svg\" height=\"24px\"viewBox=\"0 0 24 24\"\n",
              "     width=\"24px\">\n",
              "    <g>\n",
              "        <path d=\"M19 3H5c-1.1 0-2 .9-2 2v14c0 1.1.9 2 2 2h14c1.1 0 2-.9 2-2V5c0-1.1-.9-2-2-2zM9 17H7v-7h2v7zm4 0h-2V7h2v10zm4 0h-2v-4h2v4z\"/>\n",
              "    </g>\n",
              "</svg>\n",
              "      </button>\n",
              "    </div>\n",
              "\n",
              "<style>\n",
              "  .colab-df-quickchart {\n",
              "    background-color: #E8F0FE;\n",
              "    border: none;\n",
              "    border-radius: 50%;\n",
              "    cursor: pointer;\n",
              "    display: none;\n",
              "    fill: #1967D2;\n",
              "    height: 32px;\n",
              "    padding: 0 0 0 0;\n",
              "    width: 32px;\n",
              "  }\n",
              "\n",
              "  .colab-df-quickchart:hover {\n",
              "    background-color: #E2EBFA;\n",
              "    box-shadow: 0px 1px 2px rgba(60, 64, 67, 0.3), 0px 1px 3px 1px rgba(60, 64, 67, 0.15);\n",
              "    fill: #174EA6;\n",
              "  }\n",
              "\n",
              "  [theme=dark] .colab-df-quickchart {\n",
              "    background-color: #3B4455;\n",
              "    fill: #D2E3FC;\n",
              "  }\n",
              "\n",
              "  [theme=dark] .colab-df-quickchart:hover {\n",
              "    background-color: #434B5C;\n",
              "    box-shadow: 0px 1px 3px 1px rgba(0, 0, 0, 0.15);\n",
              "    filter: drop-shadow(0px 1px 2px rgba(0, 0, 0, 0.3));\n",
              "    fill: #FFFFFF;\n",
              "  }\n",
              "</style>\n",
              "\n",
              "    <script>\n",
              "      async function quickchart(key) {\n",
              "        const containerElement = document.querySelector('#' + key);\n",
              "        const charts = await google.colab.kernel.invokeFunction(\n",
              "            'suggestCharts', [key], {});\n",
              "      }\n",
              "    </script>\n",
              "\n",
              "      <script>\n",
              "\n",
              "function displayQuickchartButton(domScope) {\n",
              "  let quickchartButtonEl =\n",
              "    domScope.querySelector('#df-6c13a2bf-a067-41b1-8614-ea240f56d4e4 button.colab-df-quickchart');\n",
              "  quickchartButtonEl.style.display =\n",
              "    google.colab.kernel.accessAllowed ? 'block' : 'none';\n",
              "}\n",
              "\n",
              "        displayQuickchartButton(document);\n",
              "      </script>\n",
              "      <style>\n",
              "    .colab-df-container {\n",
              "      display:flex;\n",
              "      flex-wrap:wrap;\n",
              "      gap: 12px;\n",
              "    }\n",
              "\n",
              "    .colab-df-convert {\n",
              "      background-color: #E8F0FE;\n",
              "      border: none;\n",
              "      border-radius: 50%;\n",
              "      cursor: pointer;\n",
              "      display: none;\n",
              "      fill: #1967D2;\n",
              "      height: 32px;\n",
              "      padding: 0 0 0 0;\n",
              "      width: 32px;\n",
              "    }\n",
              "\n",
              "    .colab-df-convert:hover {\n",
              "      background-color: #E2EBFA;\n",
              "      box-shadow: 0px 1px 2px rgba(60, 64, 67, 0.3), 0px 1px 3px 1px rgba(60, 64, 67, 0.15);\n",
              "      fill: #174EA6;\n",
              "    }\n",
              "\n",
              "    [theme=dark] .colab-df-convert {\n",
              "      background-color: #3B4455;\n",
              "      fill: #D2E3FC;\n",
              "    }\n",
              "\n",
              "    [theme=dark] .colab-df-convert:hover {\n",
              "      background-color: #434B5C;\n",
              "      box-shadow: 0px 1px 3px 1px rgba(0, 0, 0, 0.15);\n",
              "      filter: drop-shadow(0px 1px 2px rgba(0, 0, 0, 0.3));\n",
              "      fill: #FFFFFF;\n",
              "    }\n",
              "  </style>\n",
              "\n",
              "      <script>\n",
              "        const buttonEl =\n",
              "          document.querySelector('#df-2c538623-e865-4856-9e1e-51498452d43a button.colab-df-convert');\n",
              "        buttonEl.style.display =\n",
              "          google.colab.kernel.accessAllowed ? 'block' : 'none';\n",
              "\n",
              "        async function convertToInteractive(key) {\n",
              "          const element = document.querySelector('#df-2c538623-e865-4856-9e1e-51498452d43a');\n",
              "          const dataTable =\n",
              "            await google.colab.kernel.invokeFunction('convertToInteractive',\n",
              "                                                     [key], {});\n",
              "          if (!dataTable) return;\n",
              "\n",
              "          const docLinkHtml = 'Like what you see? Visit the ' +\n",
              "            '<a target=\"_blank\" href=https://colab.research.google.com/notebooks/data_table.ipynb>data table notebook</a>'\n",
              "            + ' to learn more about interactive tables.';\n",
              "          element.innerHTML = '';\n",
              "          dataTable['output_type'] = 'display_data';\n",
              "          await google.colab.output.renderOutput(dataTable, element);\n",
              "          const docLink = document.createElement('div');\n",
              "          docLink.innerHTML = docLinkHtml;\n",
              "          element.appendChild(docLink);\n",
              "        }\n",
              "      </script>\n",
              "    </div>\n",
              "  </div>\n"
            ]
          },
          "metadata": {},
          "execution_count": 11
        }
      ]
    },
    {
      "cell_type": "code",
      "source": [
        "treatment_df.corr()"
      ],
      "metadata": {
        "colab": {
          "base_uri": "https://localhost:8080/"
        },
        "id": "u5w56QRtgWz7",
        "outputId": "5a243203-90ce-41a0-dd6d-6efd870cf9bc"
      },
      "execution_count": null,
      "outputs": [
        {
          "output_type": "execute_result",
          "data": {
            "text/plain": [
              "            Impression     Click  Purchase   Earning\n",
              "Impression    1.000000 -0.202757  0.138050  0.106642\n",
              "Click        -0.202757  1.000000 -0.074514  0.197784\n",
              "Purchase      0.138050 -0.074514  1.000000  0.102784\n",
              "Earning       0.106642  0.197784  0.102784  1.000000"
            ],
            "text/html": [
              "\n",
              "\n",
              "  <div id=\"df-62e242fc-6000-471b-8035-59b54c776ae1\">\n",
              "    <div class=\"colab-df-container\">\n",
              "      <div>\n",
              "<style scoped>\n",
              "    .dataframe tbody tr th:only-of-type {\n",
              "        vertical-align: middle;\n",
              "    }\n",
              "\n",
              "    .dataframe tbody tr th {\n",
              "        vertical-align: top;\n",
              "    }\n",
              "\n",
              "    .dataframe thead th {\n",
              "        text-align: right;\n",
              "    }\n",
              "</style>\n",
              "<table border=\"1\" class=\"dataframe\">\n",
              "  <thead>\n",
              "    <tr style=\"text-align: right;\">\n",
              "      <th></th>\n",
              "      <th>Impression</th>\n",
              "      <th>Click</th>\n",
              "      <th>Purchase</th>\n",
              "      <th>Earning</th>\n",
              "    </tr>\n",
              "  </thead>\n",
              "  <tbody>\n",
              "    <tr>\n",
              "      <th>Impression</th>\n",
              "      <td>1.000000</td>\n",
              "      <td>-0.202757</td>\n",
              "      <td>0.138050</td>\n",
              "      <td>0.106642</td>\n",
              "    </tr>\n",
              "    <tr>\n",
              "      <th>Click</th>\n",
              "      <td>-0.202757</td>\n",
              "      <td>1.000000</td>\n",
              "      <td>-0.074514</td>\n",
              "      <td>0.197784</td>\n",
              "    </tr>\n",
              "    <tr>\n",
              "      <th>Purchase</th>\n",
              "      <td>0.138050</td>\n",
              "      <td>-0.074514</td>\n",
              "      <td>1.000000</td>\n",
              "      <td>0.102784</td>\n",
              "    </tr>\n",
              "    <tr>\n",
              "      <th>Earning</th>\n",
              "      <td>0.106642</td>\n",
              "      <td>0.197784</td>\n",
              "      <td>0.102784</td>\n",
              "      <td>1.000000</td>\n",
              "    </tr>\n",
              "  </tbody>\n",
              "</table>\n",
              "</div>\n",
              "      <button class=\"colab-df-convert\" onclick=\"convertToInteractive('df-62e242fc-6000-471b-8035-59b54c776ae1')\"\n",
              "              title=\"Convert this dataframe to an interactive table.\"\n",
              "              style=\"display:none;\">\n",
              "\n",
              "  <svg xmlns=\"http://www.w3.org/2000/svg\" height=\"24px\"viewBox=\"0 0 24 24\"\n",
              "       width=\"24px\">\n",
              "    <path d=\"M0 0h24v24H0V0z\" fill=\"none\"/>\n",
              "    <path d=\"M18.56 5.44l.94 2.06.94-2.06 2.06-.94-2.06-.94-.94-2.06-.94 2.06-2.06.94zm-11 1L8.5 8.5l.94-2.06 2.06-.94-2.06-.94L8.5 2.5l-.94 2.06-2.06.94zm10 10l.94 2.06.94-2.06 2.06-.94-2.06-.94-.94-2.06-.94 2.06-2.06.94z\"/><path d=\"M17.41 7.96l-1.37-1.37c-.4-.4-.92-.59-1.43-.59-.52 0-1.04.2-1.43.59L10.3 9.45l-7.72 7.72c-.78.78-.78 2.05 0 2.83L4 21.41c.39.39.9.59 1.41.59.51 0 1.02-.2 1.41-.59l7.78-7.78 2.81-2.81c.8-.78.8-2.07 0-2.86zM5.41 20L4 18.59l7.72-7.72 1.47 1.35L5.41 20z\"/>\n",
              "  </svg>\n",
              "      </button>\n",
              "\n",
              "\n",
              "\n",
              "    <div id=\"df-cd2d6747-02e0-479e-9730-53b6315050e4\">\n",
              "      <button class=\"colab-df-quickchart\" onclick=\"quickchart('df-cd2d6747-02e0-479e-9730-53b6315050e4')\"\n",
              "              title=\"Suggest charts.\"\n",
              "              style=\"display:none;\">\n",
              "\n",
              "<svg xmlns=\"http://www.w3.org/2000/svg\" height=\"24px\"viewBox=\"0 0 24 24\"\n",
              "     width=\"24px\">\n",
              "    <g>\n",
              "        <path d=\"M19 3H5c-1.1 0-2 .9-2 2v14c0 1.1.9 2 2 2h14c1.1 0 2-.9 2-2V5c0-1.1-.9-2-2-2zM9 17H7v-7h2v7zm4 0h-2V7h2v10zm4 0h-2v-4h2v4z\"/>\n",
              "    </g>\n",
              "</svg>\n",
              "      </button>\n",
              "    </div>\n",
              "\n",
              "<style>\n",
              "  .colab-df-quickchart {\n",
              "    background-color: #E8F0FE;\n",
              "    border: none;\n",
              "    border-radius: 50%;\n",
              "    cursor: pointer;\n",
              "    display: none;\n",
              "    fill: #1967D2;\n",
              "    height: 32px;\n",
              "    padding: 0 0 0 0;\n",
              "    width: 32px;\n",
              "  }\n",
              "\n",
              "  .colab-df-quickchart:hover {\n",
              "    background-color: #E2EBFA;\n",
              "    box-shadow: 0px 1px 2px rgba(60, 64, 67, 0.3), 0px 1px 3px 1px rgba(60, 64, 67, 0.15);\n",
              "    fill: #174EA6;\n",
              "  }\n",
              "\n",
              "  [theme=dark] .colab-df-quickchart {\n",
              "    background-color: #3B4455;\n",
              "    fill: #D2E3FC;\n",
              "  }\n",
              "\n",
              "  [theme=dark] .colab-df-quickchart:hover {\n",
              "    background-color: #434B5C;\n",
              "    box-shadow: 0px 1px 3px 1px rgba(0, 0, 0, 0.15);\n",
              "    filter: drop-shadow(0px 1px 2px rgba(0, 0, 0, 0.3));\n",
              "    fill: #FFFFFF;\n",
              "  }\n",
              "</style>\n",
              "\n",
              "    <script>\n",
              "      async function quickchart(key) {\n",
              "        const containerElement = document.querySelector('#' + key);\n",
              "        const charts = await google.colab.kernel.invokeFunction(\n",
              "            'suggestCharts', [key], {});\n",
              "      }\n",
              "    </script>\n",
              "\n",
              "      <script>\n",
              "\n",
              "function displayQuickchartButton(domScope) {\n",
              "  let quickchartButtonEl =\n",
              "    domScope.querySelector('#df-cd2d6747-02e0-479e-9730-53b6315050e4 button.colab-df-quickchart');\n",
              "  quickchartButtonEl.style.display =\n",
              "    google.colab.kernel.accessAllowed ? 'block' : 'none';\n",
              "}\n",
              "\n",
              "        displayQuickchartButton(document);\n",
              "      </script>\n",
              "      <style>\n",
              "    .colab-df-container {\n",
              "      display:flex;\n",
              "      flex-wrap:wrap;\n",
              "      gap: 12px;\n",
              "    }\n",
              "\n",
              "    .colab-df-convert {\n",
              "      background-color: #E8F0FE;\n",
              "      border: none;\n",
              "      border-radius: 50%;\n",
              "      cursor: pointer;\n",
              "      display: none;\n",
              "      fill: #1967D2;\n",
              "      height: 32px;\n",
              "      padding: 0 0 0 0;\n",
              "      width: 32px;\n",
              "    }\n",
              "\n",
              "    .colab-df-convert:hover {\n",
              "      background-color: #E2EBFA;\n",
              "      box-shadow: 0px 1px 2px rgba(60, 64, 67, 0.3), 0px 1px 3px 1px rgba(60, 64, 67, 0.15);\n",
              "      fill: #174EA6;\n",
              "    }\n",
              "\n",
              "    [theme=dark] .colab-df-convert {\n",
              "      background-color: #3B4455;\n",
              "      fill: #D2E3FC;\n",
              "    }\n",
              "\n",
              "    [theme=dark] .colab-df-convert:hover {\n",
              "      background-color: #434B5C;\n",
              "      box-shadow: 0px 1px 3px 1px rgba(0, 0, 0, 0.15);\n",
              "      filter: drop-shadow(0px 1px 2px rgba(0, 0, 0, 0.3));\n",
              "      fill: #FFFFFF;\n",
              "    }\n",
              "  </style>\n",
              "\n",
              "      <script>\n",
              "        const buttonEl =\n",
              "          document.querySelector('#df-62e242fc-6000-471b-8035-59b54c776ae1 button.colab-df-convert');\n",
              "        buttonEl.style.display =\n",
              "          google.colab.kernel.accessAllowed ? 'block' : 'none';\n",
              "\n",
              "        async function convertToInteractive(key) {\n",
              "          const element = document.querySelector('#df-62e242fc-6000-471b-8035-59b54c776ae1');\n",
              "          const dataTable =\n",
              "            await google.colab.kernel.invokeFunction('convertToInteractive',\n",
              "                                                     [key], {});\n",
              "          if (!dataTable) return;\n",
              "\n",
              "          const docLinkHtml = 'Like what you see? Visit the ' +\n",
              "            '<a target=\"_blank\" href=https://colab.research.google.com/notebooks/data_table.ipynb>data table notebook</a>'\n",
              "            + ' to learn more about interactive tables.';\n",
              "          element.innerHTML = '';\n",
              "          dataTable['output_type'] = 'display_data';\n",
              "          await google.colab.output.renderOutput(dataTable, element);\n",
              "          const docLink = document.createElement('div');\n",
              "          docLink.innerHTML = docLinkHtml;\n",
              "          element.appendChild(docLink);\n",
              "        }\n",
              "      </script>\n",
              "    </div>\n",
              "  </div>\n"
            ]
          },
          "metadata": {},
          "execution_count": 12
        }
      ]
    },
    {
      "cell_type": "markdown",
      "source": [
        "**There is no significant correlation between variables in both datasets**"
      ],
      "metadata": {
        "id": "_1EWkIm5gb3t"
      }
    },
    {
      "cell_type": "markdown",
      "source": [
        "# Analyse\n"
      ],
      "metadata": {
        "id": "Jn9RgNYSgL7I"
      }
    },
    {
      "cell_type": "markdown",
      "source": [
        "## Control Group"
      ],
      "metadata": {
        "id": "0dsStTBOgqkg"
      }
    },
    {
      "cell_type": "code",
      "source": [
        "control_df[\"Click_Per_Impression\"] = control_df[\"Click\"] / control_df[\"Impression\"] #CTR\n",
        "control_df[\"Purchase_Per_Click\"] = control_df[\"Purchase\"] / control_df[\"Click\"] #EPC\n",
        "control_df[\"Earning_Per_Click\"] = control_df[\"Earning\"] / control_df[\"Click\"] #EPC\n",
        "control_df.head()"
      ],
      "metadata": {
        "colab": {
          "base_uri": "https://localhost:8080/"
        },
        "id": "NJMb8u0Cgp4L",
        "outputId": "7616dc78-e756-4aa4-ed79-33f4e90ffdef"
      },
      "execution_count": null,
      "outputs": [
        {
          "output_type": "execute_result",
          "data": {
            "text/plain": [
              "   Impression  Click  Purchase      Earning  Click_Per_Impression  \\\n",
              "0       82529   6090       665  2311.277143              0.073792   \n",
              "1       98050   3383       315  1742.806855              0.034503   \n",
              "2       82696   4168       458  1797.827447              0.050401   \n",
              "3      109914   4911       487  1696.229178              0.044680   \n",
              "4      108458   5988       441  1543.720179              0.055210   \n",
              "\n",
              "   Purchase_Per_Click  Earning_Per_Click  \n",
              "0            0.109195           0.379520  \n",
              "1            0.093113           0.515166  \n",
              "2            0.109885           0.431341  \n",
              "3            0.099165           0.345394  \n",
              "4            0.073647           0.257802  "
            ],
            "text/html": [
              "\n",
              "\n",
              "  <div id=\"df-7076a3e1-1a40-44a5-a32e-b29037dec7c9\">\n",
              "    <div class=\"colab-df-container\">\n",
              "      <div>\n",
              "<style scoped>\n",
              "    .dataframe tbody tr th:only-of-type {\n",
              "        vertical-align: middle;\n",
              "    }\n",
              "\n",
              "    .dataframe tbody tr th {\n",
              "        vertical-align: top;\n",
              "    }\n",
              "\n",
              "    .dataframe thead th {\n",
              "        text-align: right;\n",
              "    }\n",
              "</style>\n",
              "<table border=\"1\" class=\"dataframe\">\n",
              "  <thead>\n",
              "    <tr style=\"text-align: right;\">\n",
              "      <th></th>\n",
              "      <th>Impression</th>\n",
              "      <th>Click</th>\n",
              "      <th>Purchase</th>\n",
              "      <th>Earning</th>\n",
              "      <th>Click_Per_Impression</th>\n",
              "      <th>Purchase_Per_Click</th>\n",
              "      <th>Earning_Per_Click</th>\n",
              "    </tr>\n",
              "  </thead>\n",
              "  <tbody>\n",
              "    <tr>\n",
              "      <th>0</th>\n",
              "      <td>82529</td>\n",
              "      <td>6090</td>\n",
              "      <td>665</td>\n",
              "      <td>2311.277143</td>\n",
              "      <td>0.073792</td>\n",
              "      <td>0.109195</td>\n",
              "      <td>0.379520</td>\n",
              "    </tr>\n",
              "    <tr>\n",
              "      <th>1</th>\n",
              "      <td>98050</td>\n",
              "      <td>3383</td>\n",
              "      <td>315</td>\n",
              "      <td>1742.806855</td>\n",
              "      <td>0.034503</td>\n",
              "      <td>0.093113</td>\n",
              "      <td>0.515166</td>\n",
              "    </tr>\n",
              "    <tr>\n",
              "      <th>2</th>\n",
              "      <td>82696</td>\n",
              "      <td>4168</td>\n",
              "      <td>458</td>\n",
              "      <td>1797.827447</td>\n",
              "      <td>0.050401</td>\n",
              "      <td>0.109885</td>\n",
              "      <td>0.431341</td>\n",
              "    </tr>\n",
              "    <tr>\n",
              "      <th>3</th>\n",
              "      <td>109914</td>\n",
              "      <td>4911</td>\n",
              "      <td>487</td>\n",
              "      <td>1696.229178</td>\n",
              "      <td>0.044680</td>\n",
              "      <td>0.099165</td>\n",
              "      <td>0.345394</td>\n",
              "    </tr>\n",
              "    <tr>\n",
              "      <th>4</th>\n",
              "      <td>108458</td>\n",
              "      <td>5988</td>\n",
              "      <td>441</td>\n",
              "      <td>1543.720179</td>\n",
              "      <td>0.055210</td>\n",
              "      <td>0.073647</td>\n",
              "      <td>0.257802</td>\n",
              "    </tr>\n",
              "  </tbody>\n",
              "</table>\n",
              "</div>\n",
              "      <button class=\"colab-df-convert\" onclick=\"convertToInteractive('df-7076a3e1-1a40-44a5-a32e-b29037dec7c9')\"\n",
              "              title=\"Convert this dataframe to an interactive table.\"\n",
              "              style=\"display:none;\">\n",
              "\n",
              "  <svg xmlns=\"http://www.w3.org/2000/svg\" height=\"24px\"viewBox=\"0 0 24 24\"\n",
              "       width=\"24px\">\n",
              "    <path d=\"M0 0h24v24H0V0z\" fill=\"none\"/>\n",
              "    <path d=\"M18.56 5.44l.94 2.06.94-2.06 2.06-.94-2.06-.94-.94-2.06-.94 2.06-2.06.94zm-11 1L8.5 8.5l.94-2.06 2.06-.94-2.06-.94L8.5 2.5l-.94 2.06-2.06.94zm10 10l.94 2.06.94-2.06 2.06-.94-2.06-.94-.94-2.06-.94 2.06-2.06.94z\"/><path d=\"M17.41 7.96l-1.37-1.37c-.4-.4-.92-.59-1.43-.59-.52 0-1.04.2-1.43.59L10.3 9.45l-7.72 7.72c-.78.78-.78 2.05 0 2.83L4 21.41c.39.39.9.59 1.41.59.51 0 1.02-.2 1.41-.59l7.78-7.78 2.81-2.81c.8-.78.8-2.07 0-2.86zM5.41 20L4 18.59l7.72-7.72 1.47 1.35L5.41 20z\"/>\n",
              "  </svg>\n",
              "      </button>\n",
              "\n",
              "\n",
              "\n",
              "    <div id=\"df-ce81279f-2b90-42ee-8088-bf1a4056e0f3\">\n",
              "      <button class=\"colab-df-quickchart\" onclick=\"quickchart('df-ce81279f-2b90-42ee-8088-bf1a4056e0f3')\"\n",
              "              title=\"Suggest charts.\"\n",
              "              style=\"display:none;\">\n",
              "\n",
              "<svg xmlns=\"http://www.w3.org/2000/svg\" height=\"24px\"viewBox=\"0 0 24 24\"\n",
              "     width=\"24px\">\n",
              "    <g>\n",
              "        <path d=\"M19 3H5c-1.1 0-2 .9-2 2v14c0 1.1.9 2 2 2h14c1.1 0 2-.9 2-2V5c0-1.1-.9-2-2-2zM9 17H7v-7h2v7zm4 0h-2V7h2v10zm4 0h-2v-4h2v4z\"/>\n",
              "    </g>\n",
              "</svg>\n",
              "      </button>\n",
              "    </div>\n",
              "\n",
              "<style>\n",
              "  .colab-df-quickchart {\n",
              "    background-color: #E8F0FE;\n",
              "    border: none;\n",
              "    border-radius: 50%;\n",
              "    cursor: pointer;\n",
              "    display: none;\n",
              "    fill: #1967D2;\n",
              "    height: 32px;\n",
              "    padding: 0 0 0 0;\n",
              "    width: 32px;\n",
              "  }\n",
              "\n",
              "  .colab-df-quickchart:hover {\n",
              "    background-color: #E2EBFA;\n",
              "    box-shadow: 0px 1px 2px rgba(60, 64, 67, 0.3), 0px 1px 3px 1px rgba(60, 64, 67, 0.15);\n",
              "    fill: #174EA6;\n",
              "  }\n",
              "\n",
              "  [theme=dark] .colab-df-quickchart {\n",
              "    background-color: #3B4455;\n",
              "    fill: #D2E3FC;\n",
              "  }\n",
              "\n",
              "  [theme=dark] .colab-df-quickchart:hover {\n",
              "    background-color: #434B5C;\n",
              "    box-shadow: 0px 1px 3px 1px rgba(0, 0, 0, 0.15);\n",
              "    filter: drop-shadow(0px 1px 2px rgba(0, 0, 0, 0.3));\n",
              "    fill: #FFFFFF;\n",
              "  }\n",
              "</style>\n",
              "\n",
              "    <script>\n",
              "      async function quickchart(key) {\n",
              "        const containerElement = document.querySelector('#' + key);\n",
              "        const charts = await google.colab.kernel.invokeFunction(\n",
              "            'suggestCharts', [key], {});\n",
              "      }\n",
              "    </script>\n",
              "\n",
              "      <script>\n",
              "\n",
              "function displayQuickchartButton(domScope) {\n",
              "  let quickchartButtonEl =\n",
              "    domScope.querySelector('#df-ce81279f-2b90-42ee-8088-bf1a4056e0f3 button.colab-df-quickchart');\n",
              "  quickchartButtonEl.style.display =\n",
              "    google.colab.kernel.accessAllowed ? 'block' : 'none';\n",
              "}\n",
              "\n",
              "        displayQuickchartButton(document);\n",
              "      </script>\n",
              "      <style>\n",
              "    .colab-df-container {\n",
              "      display:flex;\n",
              "      flex-wrap:wrap;\n",
              "      gap: 12px;\n",
              "    }\n",
              "\n",
              "    .colab-df-convert {\n",
              "      background-color: #E8F0FE;\n",
              "      border: none;\n",
              "      border-radius: 50%;\n",
              "      cursor: pointer;\n",
              "      display: none;\n",
              "      fill: #1967D2;\n",
              "      height: 32px;\n",
              "      padding: 0 0 0 0;\n",
              "      width: 32px;\n",
              "    }\n",
              "\n",
              "    .colab-df-convert:hover {\n",
              "      background-color: #E2EBFA;\n",
              "      box-shadow: 0px 1px 2px rgba(60, 64, 67, 0.3), 0px 1px 3px 1px rgba(60, 64, 67, 0.15);\n",
              "      fill: #174EA6;\n",
              "    }\n",
              "\n",
              "    [theme=dark] .colab-df-convert {\n",
              "      background-color: #3B4455;\n",
              "      fill: #D2E3FC;\n",
              "    }\n",
              "\n",
              "    [theme=dark] .colab-df-convert:hover {\n",
              "      background-color: #434B5C;\n",
              "      box-shadow: 0px 1px 3px 1px rgba(0, 0, 0, 0.15);\n",
              "      filter: drop-shadow(0px 1px 2px rgba(0, 0, 0, 0.3));\n",
              "      fill: #FFFFFF;\n",
              "    }\n",
              "  </style>\n",
              "\n",
              "      <script>\n",
              "        const buttonEl =\n",
              "          document.querySelector('#df-7076a3e1-1a40-44a5-a32e-b29037dec7c9 button.colab-df-convert');\n",
              "        buttonEl.style.display =\n",
              "          google.colab.kernel.accessAllowed ? 'block' : 'none';\n",
              "\n",
              "        async function convertToInteractive(key) {\n",
              "          const element = document.querySelector('#df-7076a3e1-1a40-44a5-a32e-b29037dec7c9');\n",
              "          const dataTable =\n",
              "            await google.colab.kernel.invokeFunction('convertToInteractive',\n",
              "                                                     [key], {});\n",
              "          if (!dataTable) return;\n",
              "\n",
              "          const docLinkHtml = 'Like what you see? Visit the ' +\n",
              "            '<a target=\"_blank\" href=https://colab.research.google.com/notebooks/data_table.ipynb>data table notebook</a>'\n",
              "            + ' to learn more about interactive tables.';\n",
              "          element.innerHTML = '';\n",
              "          dataTable['output_type'] = 'display_data';\n",
              "          await google.colab.output.renderOutput(dataTable, element);\n",
              "          const docLink = document.createElement('div');\n",
              "          docLink.innerHTML = docLinkHtml;\n",
              "          element.appendChild(docLink);\n",
              "        }\n",
              "      </script>\n",
              "    </div>\n",
              "  </div>\n"
            ]
          },
          "metadata": {},
          "execution_count": 13
        }
      ]
    },
    {
      "cell_type": "code",
      "source": [
        "plt.figure(figsize=(20,8))\n",
        "plt.plot(control_df['Click_Per_Impression'], color='red', marker='o', label = 'CPI')\n",
        "plt.plot(control_df['Purchase_Per_Click'], color='blue', marker='s', label = 'PPC')\n",
        "plt.plot(control_df['Earning_Per_Click'], color='green', marker='^', label = 'EPC')\n",
        "plt.title('CPI v PPC v EPC', fontsize=14)\n",
        "plt.xlabel('Day', fontsize=14)\n",
        "plt.ylabel('Rate', fontsize=14)\n",
        "plt.legend()\n",
        "plt.grid(True)\n",
        "plt.show()"
      ],
      "metadata": {
        "colab": {
          "base_uri": "https://localhost:8080/"
        },
        "id": "K1O_5cthe4yc",
        "outputId": "bcc0415d-1152-409e-a137-cc49a5addd62"
      },
      "execution_count": null,
      "outputs": [
        {
          "output_type": "display_data",
          "data": {
            "text/plain": [
              "<Figure size 2000x800 with 1 Axes>"
            ],
            "image/png": "[encoded data removed]"
          },
          "metadata": {}
        }
      ]
    },
    {
      "cell_type": "code",
      "source": [
        "control_df.describe().T"
      ],
      "metadata": {
        "colab": {
          "base_uri": "https://localhost:8080/"
        },
        "id": "PAX6dX0egaz0",
        "outputId": "fce6aa94-6849-440b-dc15-e534e6268fb5"
      },
      "execution_count": null,
      "outputs": [
        {
          "output_type": "execute_result",
          "data": {
            "text/plain": [
              "                      count           mean           std           min  \\\n",
              "Impression             40.0  101711.450000  20302.122984  45476.000000   \n",
              "Click                  40.0    5100.625000   1329.957772   2190.000000   \n",
              "Purchase               40.0     550.900000    134.110517    267.000000   \n",
              "Earning                40.0    1908.568300    302.917783   1253.989525   \n",
              "Click_Per_Impression   40.0       0.053618      0.024849      0.020760   \n",
              "Purchase_Per_Click     40.0       0.115924      0.045399      0.040399   \n",
              "Earning_Per_Click      40.0       0.408355      0.153715      0.167320   \n",
              "\n",
              "                               25%           50%            75%            max  \n",
              "Impression            85726.750000  99790.500000  115212.500000  147539.000000  \n",
              "Click                  4124.250000   5001.500000    5923.500000    7959.000000  \n",
              "Purchase                470.500000    531.500000     638.000000     802.000000  \n",
              "Earning                1685.847205   1975.160522    2119.802784    2497.295218  \n",
              "Click_Per_Impression      0.039219      0.048795       0.057985       0.162064  \n",
              "Purchase_Per_Click        0.085171      0.109540       0.144823       0.304110  \n",
              "Earning_Per_Click         0.299324      0.383050       0.500968       0.964326  "
            ],
            "text/html": [
              "\n",
              "\n",
              "  <div id=\"df-5d9d91a1-f1ca-4106-9a9f-267091d2fd81\">\n",
              "    <div class=\"colab-df-container\">\n",
              "      <div>\n",
              "<style scoped>\n",
              "    .dataframe tbody tr th:only-of-type {\n",
              "        vertical-align: middle;\n",
              "    }\n",
              "\n",
              "    .dataframe tbody tr th {\n",
              "        vertical-align: top;\n",
              "    }\n",
              "\n",
              "    .dataframe thead th {\n",
              "        text-align: right;\n",
              "    }\n",
              "</style>\n",
              "<table border=\"1\" class=\"dataframe\">\n",
              "  <thead>\n",
              "    <tr style=\"text-align: right;\">\n",
              "      <th></th>\n",
              "      <th>count</th>\n",
              "      <th>mean</th>\n",
              "      <th>std</th>\n",
              "      <th>min</th>\n",
              "      <th>25%</th>\n",
              "      <th>50%</th>\n",
              "      <th>75%</th>\n",
              "      <th>max</th>\n",
              "    </tr>\n",
              "  </thead>\n",
              "  <tbody>\n",
              "    <tr>\n",
              "      <th>Impression</th>\n",
              "      <td>40.0</td>\n",
              "      <td>101711.450000</td>\n",
              "      <td>20302.122984</td>\n",
              "      <td>45476.000000</td>\n",
              "      <td>85726.750000</td>\n",
              "      <td>99790.500000</td>\n",
              "      <td>115212.500000</td>\n",
              "      <td>147539.000000</td>\n",
              "    </tr>\n",
              "    <tr>\n",
              "      <th>Click</th>\n",
              "      <td>40.0</td>\n",
              "      <td>5100.625000</td>\n",
              "      <td>1329.957772</td>\n",
              "      <td>2190.000000</td>\n",
              "      <td>4124.250000</td>\n",
              "      <td>5001.500000</td>\n",
              "      <td>5923.500000</td>\n",
              "      <td>7959.000000</td>\n",
              "    </tr>\n",
              "    <tr>\n",
              "      <th>Purchase</th>\n",
              "      <td>40.0</td>\n",
              "      <td>550.900000</td>\n",
              "      <td>134.110517</td>\n",
              "      <td>267.000000</td>\n",
              "      <td>470.500000</td>\n",
              "      <td>531.500000</td>\n",
              "      <td>638.000000</td>\n",
              "      <td>802.000000</td>\n",
              "    </tr>\n",
              "    <tr>\n",
              "      <th>Earning</th>\n",
              "      <td>40.0</td>\n",
              "      <td>1908.568300</td>\n",
              "      <td>302.917783</td>\n",
              "      <td>1253.989525</td>\n",
              "      <td>1685.847205</td>\n",
              "      <td>1975.160522</td>\n",
              "      <td>2119.802784</td>\n",
              "      <td>2497.295218</td>\n",
              "    </tr>\n",
              "    <tr>\n",
              "      <th>Click_Per_Impression</th>\n",
              "      <td>40.0</td>\n",
              "      <td>0.053618</td>\n",
              "      <td>0.024849</td>\n",
              "      <td>0.020760</td>\n",
              "      <td>0.039219</td>\n",
              "      <td>0.048795</td>\n",
              "      <td>0.057985</td>\n",
              "      <td>0.162064</td>\n",
              "    </tr>\n",
              "    <tr>\n",
              "      <th>Purchase_Per_Click</th>\n",
              "      <td>40.0</td>\n",
              "      <td>0.115924</td>\n",
              "      <td>0.045399</td>\n",
              "      <td>0.040399</td>\n",
              "      <td>0.085171</td>\n",
              "      <td>0.109540</td>\n",
              "      <td>0.144823</td>\n",
              "      <td>0.304110</td>\n",
              "    </tr>\n",
              "    <tr>\n",
              "      <th>Earning_Per_Click</th>\n",
              "      <td>40.0</td>\n",
              "      <td>0.408355</td>\n",
              "      <td>0.153715</td>\n",
              "      <td>0.167320</td>\n",
              "      <td>0.299324</td>\n",
              "      <td>0.383050</td>\n",
              "      <td>0.500968</td>\n",
              "      <td>0.964326</td>\n",
              "    </tr>\n",
              "  </tbody>\n",
              "</table>\n",
              "</div>\n",
              "      <button class=\"colab-df-convert\" onclick=\"convertToInteractive('df-5d9d91a1-f1ca-4106-9a9f-267091d2fd81')\"\n",
              "              title=\"Convert this dataframe to an interactive table.\"\n",
              "              style=\"display:none;\">\n",
              "\n",
              "  <svg xmlns=\"http://www.w3.org/2000/svg\" height=\"24px\"viewBox=\"0 0 24 24\"\n",
              "       width=\"24px\">\n",
              "    <path d=\"M0 0h24v24H0V0z\" fill=\"none\"/>\n",
              "    <path d=\"M18.56 5.44l.94 2.06.94-2.06 2.06-.94-2.06-.94-.94-2.06-.94 2.06-2.06.94zm-11 1L8.5 8.5l.94-2.06 2.06-.94-2.06-.94L8.5 2.5l-.94 2.06-2.06.94zm10 10l.94 2.06.94-2.06 2.06-.94-2.06-.94-.94-2.06-.94 2.06-2.06.94z\"/><path d=\"M17.41 7.96l-1.37-1.37c-.4-.4-.92-.59-1.43-.59-.52 0-1.04.2-1.43.59L10.3 9.45l-7.72 7.72c-.78.78-.78 2.05 0 2.83L4 21.41c.39.39.9.59 1.41.59.51 0 1.02-.2 1.41-.59l7.78-7.78 2.81-2.81c.8-.78.8-2.07 0-2.86zM5.41 20L4 18.59l7.72-7.72 1.47 1.35L5.41 20z\"/>\n",
              "  </svg>\n",
              "      </button>\n",
              "\n",
              "\n",
              "\n",
              "    <div id=\"df-98cbd296-2cd8-41c8-bbf6-d704a71d7379\">\n",
              "      <button class=\"colab-df-quickchart\" onclick=\"quickchart('df-98cbd296-2cd8-41c8-bbf6-d704a71d7379')\"\n",
              "              title=\"Suggest charts.\"\n",
              "              style=\"display:none;\">\n",
              "\n",
              "<svg xmlns=\"http://www.w3.org/2000/svg\" height=\"24px\"viewBox=\"0 0 24 24\"\n",
              "     width=\"24px\">\n",
              "    <g>\n",
              "        <path d=\"M19 3H5c-1.1 0-2 .9-2 2v14c0 1.1.9 2 2 2h14c1.1 0 2-.9 2-2V5c0-1.1-.9-2-2-2zM9 17H7v-7h2v7zm4 0h-2V7h2v10zm4 0h-2v-4h2v4z\"/>\n",
              "    </g>\n",
              "</svg>\n",
              "      </button>\n",
              "    </div>\n",
              "\n",
              "<style>\n",
              "  .colab-df-quickchart {\n",
              "    background-color: #E8F0FE;\n",
              "    border: none;\n",
              "    border-radius: 50%;\n",
              "    cursor: pointer;\n",
              "    display: none;\n",
              "    fill: #1967D2;\n",
              "    height: 32px;\n",
              "    padding: 0 0 0 0;\n",
              "    width: 32px;\n",
              "  }\n",
              "\n",
              "  .colab-df-quickchart:hover {\n",
              "    background-color: #E2EBFA;\n",
              "    box-shadow: 0px 1px 2px rgba(60, 64, 67, 0.3), 0px 1px 3px 1px rgba(60, 64, 67, 0.15);\n",
              "    fill: #174EA6;\n",
              "  }\n",
              "\n",
              "  [theme=dark] .colab-df-quickchart {\n",
              "    background-color: #3B4455;\n",
              "    fill: #D2E3FC;\n",
              "  }\n",
              "\n",
              "  [theme=dark] .colab-df-quickchart:hover {\n",
              "    background-color: #434B5C;\n",
              "    box-shadow: 0px 1px 3px 1px rgba(0, 0, 0, 0.15);\n",
              "    filter: drop-shadow(0px 1px 2px rgba(0, 0, 0, 0.3));\n",
              "    fill: #FFFFFF;\n",
              "  }\n",
              "</style>\n",
              "\n",
              "    <script>\n",
              "      async function quickchart(key) {\n",
              "        const containerElement = document.querySelector('#' + key);\n",
              "        const charts = await google.colab.kernel.invokeFunction(\n",
              "            'suggestCharts', [key], {});\n",
              "      }\n",
              "    </script>\n",
              "\n",
              "      <script>\n",
              "\n",
              "function displayQuickchartButton(domScope) {\n",
              "  let quickchartButtonEl =\n",
              "    domScope.querySelector('#df-98cbd296-2cd8-41c8-bbf6-d704a71d7379 button.colab-df-quickchart');\n",
              "  quickchartButtonEl.style.display =\n",
              "    google.colab.kernel.accessAllowed ? 'block' : 'none';\n",
              "}\n",
              "\n",
              "        displayQuickchartButton(document);\n",
              "      </script>\n",
              "      <style>\n",
              "    .colab-df-container {\n",
              "      display:flex;\n",
              "      flex-wrap:wrap;\n",
              "      gap: 12px;\n",
              "    }\n",
              "\n",
              "    .colab-df-convert {\n",
              "      background-color: #E8F0FE;\n",
              "      border: none;\n",
              "      border-radius: 50%;\n",
              "      cursor: pointer;\n",
              "      display: none;\n",
              "      fill: #1967D2;\n",
              "      height: 32px;\n",
              "      padding: 0 0 0 0;\n",
              "      width: 32px;\n",
              "    }\n",
              "\n",
              "    .colab-df-convert:hover {\n",
              "      background-color: #E2EBFA;\n",
              "      box-shadow: 0px 1px 2px rgba(60, 64, 67, 0.3), 0px 1px 3px 1px rgba(60, 64, 67, 0.15);\n",
              "      fill: #174EA6;\n",
              "    }\n",
              "\n",
              "    [theme=dark] .colab-df-convert {\n",
              "      background-color: #3B4455;\n",
              "      fill: #D2E3FC;\n",
              "    }\n",
              "\n",
              "    [theme=dark] .colab-df-convert:hover {\n",
              "      background-color: #434B5C;\n",
              "      box-shadow: 0px 1px 3px 1px rgba(0, 0, 0, 0.15);\n",
              "      filter: drop-shadow(0px 1px 2px rgba(0, 0, 0, 0.3));\n",
              "      fill: #FFFFFF;\n",
              "    }\n",
              "  </style>\n",
              "\n",
              "      <script>\n",
              "        const buttonEl =\n",
              "          document.querySelector('#df-5d9d91a1-f1ca-4106-9a9f-267091d2fd81 button.colab-df-convert');\n",
              "        buttonEl.style.display =\n",
              "          google.colab.kernel.accessAllowed ? 'block' : 'none';\n",
              "\n",
              "        async function convertToInteractive(key) {\n",
              "          const element = document.querySelector('#df-5d9d91a1-f1ca-4106-9a9f-267091d2fd81');\n",
              "          const dataTable =\n",
              "            await google.colab.kernel.invokeFunction('convertToInteractive',\n",
              "                                                     [key], {});\n",
              "          if (!dataTable) return;\n",
              "\n",
              "          const docLinkHtml = 'Like what you see? Visit the ' +\n",
              "            '<a target=\"_blank\" href=https://colab.research.google.com/notebooks/data_table.ipynb>data table notebook</a>'\n",
              "            + ' to learn more about interactive tables.';\n",
              "          element.innerHTML = '';\n",
              "          dataTable['output_type'] = 'display_data';\n",
              "          await google.colab.output.renderOutput(dataTable, element);\n",
              "          const docLink = document.createElement('div');\n",
              "          docLink.innerHTML = docLinkHtml;\n",
              "          element.appendChild(docLink);\n",
              "        }\n",
              "      </script>\n",
              "    </div>\n",
              "  </div>\n"
            ]
          },
          "metadata": {},
          "execution_count": 15
        }
      ]
    },
    {
      "cell_type": "markdown",
      "source": [
        "Based on the \"CPI v PPC v EPC\" graph, over a span of 40 days, the number of users who clicked on the ads after viewing them was not very high (approximately averaging at 5%). However, if a user does click on the displayed ads, there is an average possibility of achieving a sales conversion rate of 11%. This is quite good because out of 100 ad clicks, 11 products are sold.\n",
        "\n",
        "In terms of the average revenue generated from using Facebook Ads, the company earned $1908 over the course of 40 days. Looking at the paid ad clicks, the company's revenue (earning) is proportional to the user clicks, amounting to 40%. This means that for every 100 clicks that occur, the company can generate an earning of `$40`.\n",
        "\n",
        "Moreover, there is additional information that suggests the absence of any noticeable trends over the 40-day period when we examine the graph. All the clicks, purchases, and earnings obtained by the company are merely events that occur spontaneously and naturally. This can be observed by the fact that even with a low CPI, the company managed to achieve the highest EPC during the 40-day period. However, it is important to conduct further testing and gather additional data to statistically support such observations."
      ],
      "metadata": {
        "id": "y4fvVJaljw9G"
      }
    },
    {
      "cell_type": "markdown",
      "source": [
        "## Treatment Group"
      ],
      "metadata": {
        "id": "HSe72plr3yIp"
      }
    },
    {
      "cell_type": "code",
      "source": [
        "treatment_df[\"Click_Per_Impression\"] = treatment_df[\"Click\"] / treatment_df[\"Impression\"] #CTR\n",
        "treatment_df[\"Purchase_Per_Click\"] = treatment_df[\"Purchase\"] / treatment_df[\"Click\"] #EPC\n",
        "treatment_df[\"Earning_Per_Click\"] = treatment_df[\"Earning\"] / treatment_df[\"Click\"] #EPC\n",
        "treatment_df.head()"
      ],
      "metadata": {
        "colab": {
          "base_uri": "https://localhost:8080/"
        },
        "outputId": "4927db8a-3d08-465b-8e00-b8f282dbdb1c",
        "id": "p3tFdpsZ3yI0"
      },
      "execution_count": null,
      "outputs": [
        {
          "output_type": "execute_result",
          "data": {
            "text/plain": [
              "   Impression  Click  Purchase      Earning  Click_Per_Impression  \\\n",
              "0      120104   3217       702  1939.611243              0.026785   \n",
              "1      134776   3635       834  2929.405820              0.026971   \n",
              "2      107807   3057       423  2526.244877              0.028356   \n",
              "3      116445   4650       429  2281.428574              0.039933   \n",
              "4      145083   5201       750  2781.697521              0.035848   \n",
              "\n",
              "   Purchase_Per_Click  Earning_Per_Click  \n",
              "0            0.218216           0.602925  \n",
              "1            0.229436           0.805889  \n",
              "2            0.138371           0.826380  \n",
              "3            0.092258           0.490630  \n",
              "4            0.144203           0.534839  "
            ],
            "text/html": [
              "\n",
              "\n",
              "  <div id=\"df-fec6061c-2bc4-4932-aa9a-44ea90911e1c\">\n",
              "    <div class=\"colab-df-container\">\n",
              "      <div>\n",
              "<style scoped>\n",
              "    .dataframe tbody tr th:only-of-type {\n",
              "        vertical-align: middle;\n",
              "    }\n",
              "\n",
              "    .dataframe tbody tr th {\n",
              "        vertical-align: top;\n",
              "    }\n",
              "\n",
              "    .dataframe thead th {\n",
              "        text-align: right;\n",
              "    }\n",
              "</style>\n",
              "<table border=\"1\" class=\"dataframe\">\n",
              "  <thead>\n",
              "    <tr style=\"text-align: right;\">\n",
              "      <th></th>\n",
              "      <th>Impression</th>\n",
              "      <th>Click</th>\n",
              "      <th>Purchase</th>\n",
              "      <th>Earning</th>\n",
              "      <th>Click_Per_Impression</th>\n",
              "      <th>Purchase_Per_Click</th>\n",
              "      <th>Earning_Per_Click</th>\n",
              "    </tr>\n",
              "  </thead>\n",
              "  <tbody>\n",
              "    <tr>\n",
              "      <th>0</th>\n",
              "      <td>120104</td>\n",
              "      <td>3217</td>\n",
              "      <td>702</td>\n",
              "      <td>1939.611243</td>\n",
              "      <td>0.026785</td>\n",
              "      <td>0.218216</td>\n",
              "      <td>0.602925</td>\n",
              "    </tr>\n",
              "    <tr>\n",
              "      <th>1</th>\n",
              "      <td>134776</td>\n",
              "      <td>3635</td>\n",
              "      <td>834</td>\n",
              "      <td>2929.405820</td>\n",
              "      <td>0.026971</td>\n",
              "      <td>0.229436</td>\n",
              "      <td>0.805889</td>\n",
              "    </tr>\n",
              "    <tr>\n",
              "      <th>2</th>\n",
              "      <td>107807</td>\n",
              "      <td>3057</td>\n",
              "      <td>423</td>\n",
              "      <td>2526.244877</td>\n",
              "      <td>0.028356</td>\n",
              "      <td>0.138371</td>\n",
              "      <td>0.826380</td>\n",
              "    </tr>\n",
              "    <tr>\n",
              "      <th>3</th>\n",
              "      <td>116445</td>\n",
              "      <td>4650</td>\n",
              "      <td>429</td>\n",
              "      <td>2281.428574</td>\n",
              "      <td>0.039933</td>\n",
              "      <td>0.092258</td>\n",
              "      <td>0.490630</td>\n",
              "    </tr>\n",
              "    <tr>\n",
              "      <th>4</th>\n",
              "      <td>145083</td>\n",
              "      <td>5201</td>\n",
              "      <td>750</td>\n",
              "      <td>2781.697521</td>\n",
              "      <td>0.035848</td>\n",
              "      <td>0.144203</td>\n",
              "      <td>0.534839</td>\n",
              "    </tr>\n",
              "  </tbody>\n",
              "</table>\n",
              "</div>\n",
              "      <button class=\"colab-df-convert\" onclick=\"convertToInteractive('df-fec6061c-2bc4-4932-aa9a-44ea90911e1c')\"\n",
              "              title=\"Convert this dataframe to an interactive table.\"\n",
              "              style=\"display:none;\">\n",
              "\n",
              "  <svg xmlns=\"http://www.w3.org/2000/svg\" height=\"24px\"viewBox=\"0 0 24 24\"\n",
              "       width=\"24px\">\n",
              "    <path d=\"M0 0h24v24H0V0z\" fill=\"none\"/>\n",
              "    <path d=\"M18.56 5.44l.94 2.06.94-2.06 2.06-.94-2.06-.94-.94-2.06-.94 2.06-2.06.94zm-11 1L8.5 8.5l.94-2.06 2.06-.94-2.06-.94L8.5 2.5l-.94 2.06-2.06.94zm10 10l.94 2.06.94-2.06 2.06-.94-2.06-.94-.94-2.06-.94 2.06-2.06.94z\"/><path d=\"M17.41 7.96l-1.37-1.37c-.4-.4-.92-.59-1.43-.59-.52 0-1.04.2-1.43.59L10.3 9.45l-7.72 7.72c-.78.78-.78 2.05 0 2.83L4 21.41c.39.39.9.59 1.41.59.51 0 1.02-.2 1.41-.59l7.78-7.78 2.81-2.81c.8-.78.8-2.07 0-2.86zM5.41 20L4 18.59l7.72-7.72 1.47 1.35L5.41 20z\"/>\n",
              "  </svg>\n",
              "      </button>\n",
              "\n",
              "\n",
              "\n",
              "    <div id=\"df-491eb3f3-810b-4c37-83a5-c5d30ae06d58\">\n",
              "      <button class=\"colab-df-quickchart\" onclick=\"quickchart('df-491eb3f3-810b-4c37-83a5-c5d30ae06d58')\"\n",
              "              title=\"Suggest charts.\"\n",
              "              style=\"display:none;\">\n",
              "\n",
              "<svg xmlns=\"http://www.w3.org/2000/svg\" height=\"24px\"viewBox=\"0 0 24 24\"\n",
              "     width=\"24px\">\n",
              "    <g>\n",
              "        <path d=\"M19 3H5c-1.1 0-2 .9-2 2v14c0 1.1.9 2 2 2h14c1.1 0 2-.9 2-2V5c0-1.1-.9-2-2-2zM9 17H7v-7h2v7zm4 0h-2V7h2v10zm4 0h-2v-4h2v4z\"/>\n",
              "    </g>\n",
              "</svg>\n",
              "      </button>\n",
              "    </div>\n",
              "\n",
              "<style>\n",
              "  .colab-df-quickchart {\n",
              "    background-color: #E8F0FE;\n",
              "    border: none;\n",
              "    border-radius: 50%;\n",
              "    cursor: pointer;\n",
              "    display: none;\n",
              "    fill: #1967D2;\n",
              "    height: 32px;\n",
              "    padding: 0 0 0 0;\n",
              "    width: 32px;\n",
              "  }\n",
              "\n",
              "  .colab-df-quickchart:hover {\n",
              "    background-color: #E2EBFA;\n",
              "    box-shadow: 0px 1px 2px rgba(60, 64, 67, 0.3), 0px 1px 3px 1px rgba(60, 64, 67, 0.15);\n",
              "    fill: #174EA6;\n",
              "  }\n",
              "\n",
              "  [theme=dark] .colab-df-quickchart {\n",
              "    background-color: #3B4455;\n",
              "    fill: #D2E3FC;\n",
              "  }\n",
              "\n",
              "  [theme=dark] .colab-df-quickchart:hover {\n",
              "    background-color: #434B5C;\n",
              "    box-shadow: 0px 1px 3px 1px rgba(0, 0, 0, 0.15);\n",
              "    filter: drop-shadow(0px 1px 2px rgba(0, 0, 0, 0.3));\n",
              "    fill: #FFFFFF;\n",
              "  }\n",
              "</style>\n",
              "\n",
              "    <script>\n",
              "      async function quickchart(key) {\n",
              "        const containerElement = document.querySelector('#' + key);\n",
              "        const charts = await google.colab.kernel.invokeFunction(\n",
              "            'suggestCharts', [key], {});\n",
              "      }\n",
              "    </script>\n",
              "\n",
              "      <script>\n",
              "\n",
              "function displayQuickchartButton(domScope) {\n",
              "  let quickchartButtonEl =\n",
              "    domScope.querySelector('#df-491eb3f3-810b-4c37-83a5-c5d30ae06d58 button.colab-df-quickchart');\n",
              "  quickchartButtonEl.style.display =\n",
              "    google.colab.kernel.accessAllowed ? 'block' : 'none';\n",
              "}\n",
              "\n",
              "        displayQuickchartButton(document);\n",
              "      </script>\n",
              "      <style>\n",
              "    .colab-df-container {\n",
              "      display:flex;\n",
              "      flex-wrap:wrap;\n",
              "      gap: 12px;\n",
              "    }\n",
              "\n",
              "    .colab-df-convert {\n",
              "      background-color: #E8F0FE;\n",
              "      border: none;\n",
              "      border-radius: 50%;\n",
              "      cursor: pointer;\n",
              "      display: none;\n",
              "      fill: #1967D2;\n",
              "      height: 32px;\n",
              "      padding: 0 0 0 0;\n",
              "      width: 32px;\n",
              "    }\n",
              "\n",
              "    .colab-df-convert:hover {\n",
              "      background-color: #E2EBFA;\n",
              "      box-shadow: 0px 1px 2px rgba(60, 64, 67, 0.3), 0px 1px 3px 1px rgba(60, 64, 67, 0.15);\n",
              "      fill: #174EA6;\n",
              "    }\n",
              "\n",
              "    [theme=dark] .colab-df-convert {\n",
              "      background-color: #3B4455;\n",
              "      fill: #D2E3FC;\n",
              "    }\n",
              "\n",
              "    [theme=dark] .colab-df-convert:hover {\n",
              "      background-color: #434B5C;\n",
              "      box-shadow: 0px 1px 3px 1px rgba(0, 0, 0, 0.15);\n",
              "      filter: drop-shadow(0px 1px 2px rgba(0, 0, 0, 0.3));\n",
              "      fill: #FFFFFF;\n",
              "    }\n",
              "  </style>\n",
              "\n",
              "      <script>\n",
              "        const buttonEl =\n",
              "          document.querySelector('#df-fec6061c-2bc4-4932-aa9a-44ea90911e1c button.colab-df-convert');\n",
              "        buttonEl.style.display =\n",
              "          google.colab.kernel.accessAllowed ? 'block' : 'none';\n",
              "\n",
              "        async function convertToInteractive(key) {\n",
              "          const element = document.querySelector('#df-fec6061c-2bc4-4932-aa9a-44ea90911e1c');\n",
              "          const dataTable =\n",
              "            await google.colab.kernel.invokeFunction('convertToInteractive',\n",
              "                                                     [key], {});\n",
              "          if (!dataTable) return;\n",
              "\n",
              "          const docLinkHtml = 'Like what you see? Visit the ' +\n",
              "            '<a target=\"_blank\" href=https://colab.research.google.com/notebooks/data_table.ipynb>data table notebook</a>'\n",
              "            + ' to learn more about interactive tables.';\n",
              "          element.innerHTML = '';\n",
              "          dataTable['output_type'] = 'display_data';\n",
              "          await google.colab.output.renderOutput(dataTable, element);\n",
              "          const docLink = document.createElement('div');\n",
              "          docLink.innerHTML = docLinkHtml;\n",
              "          element.appendChild(docLink);\n",
              "        }\n",
              "      </script>\n",
              "    </div>\n",
              "  </div>\n"
            ]
          },
          "metadata": {},
          "execution_count": 16
        }
      ]
    },
    {
      "cell_type": "code",
      "source": [
        "plt.figure(figsize=(20,8))\n",
        "plt.plot(treatment_df['Click_Per_Impression'], color='red', marker='o', label = 'CPI')\n",
        "plt.plot(treatment_df['Purchase_Per_Click'], color='blue', marker='s', label = 'PPC')\n",
        "plt.plot(treatment_df['Earning_Per_Click'], color='green', marker='^', label = 'EPC')\n",
        "plt.title('CPI v PPC v EPC', fontsize=14)\n",
        "plt.xlabel('Day', fontsize=14)\n",
        "plt.ylabel('Rate', fontsize=14)\n",
        "plt.legend()\n",
        "plt.grid(True)\n",
        "plt.show()"
      ],
      "metadata": {
        "colab": {
          "base_uri": "https://localhost:8080/"
        },
        "outputId": "aa4649cf-2fb3-406a-d7d8-88cb65b16a74",
        "id": "qt9wi6cW3yI1"
      },
      "execution_count": null,
      "outputs": [
        {
          "output_type": "display_data",
          "data": {
            "text/plain": [
              "<Figure size 2000x800 with 1 Axes>"
            ],
            "image/png": "[encoded data removed]"
          },
          "metadata": {}
        }
      ]
    },
    {
      "cell_type": "code",
      "source": [
        "treatment_df.describe().T"
      ],
      "metadata": {
        "colab": {
          "base_uri": "https://localhost:8080/"
        },
        "outputId": "63555f24-80e8-463e-fa1d-cfdcdbdfb334",
        "id": "Icra94Ac3yI1"
      },
      "execution_count": null,
      "outputs": [
        {
          "output_type": "execute_result",
          "data": {
            "text/plain": [
              "                      count           mean           std           min  \\\n",
              "Impression             40.0  120512.425000  18807.466616  79034.000000   \n",
              "Click                  40.0    3967.550000    923.071766   1837.000000   \n",
              "Purchase               40.0     582.050000    161.175164    312.000000   \n",
              "Earning                40.0    2514.890733    282.730852   1939.611243   \n",
              "Click_Per_Impression   40.0       0.034176      0.012256      0.014735   \n",
              "Purchase_Per_Click     40.0       0.156551      0.068164      0.063645   \n",
              "Earning_Per_Click      40.0       0.668300      0.175652      0.379517   \n",
              "\n",
              "                                25%            50%            75%  \\\n",
              "Impression            112692.250000  119291.500000  132050.750000   \n",
              "Click                   3376.500000    3931.500000    4660.250000   \n",
              "Purchase                 444.750000     551.000000     699.750000   \n",
              "Earning                 2280.537426    2544.666107    2761.545405   \n",
              "Click_Per_Impression       0.028157       0.031355       0.037262   \n",
              "Purchase_Per_Click         0.110265       0.146206       0.183013   \n",
              "Earning_Per_Click          0.550919       0.655944       0.773368   \n",
              "\n",
              "                                max  \n",
              "Impression            158606.000000  \n",
              "Click                   6020.000000  \n",
              "Purchase                 890.000000  \n",
              "Earning                 3171.489708  \n",
              "Click_Per_Impression       0.075749  \n",
              "Purchase_Per_Click         0.448013  \n",
              "Earning_Per_Click          1.244809  "
            ],
            "text/html": [
              "\n",
              "\n",
              "  <div id=\"df-0eae4bf9-67d0-4bd5-9bff-3813efa8442b\">\n",
              "    <div class=\"colab-df-container\">\n",
              "      <div>\n",
              "<style scoped>\n",
              "    .dataframe tbody tr th:only-of-type {\n",
              "        vertical-align: middle;\n",
              "    }\n",
              "\n",
              "    .dataframe tbody tr th {\n",
              "        vertical-align: top;\n",
              "    }\n",
              "\n",
              "    .dataframe thead th {\n",
              "        text-align: right;\n",
              "    }\n",
              "</style>\n",
              "<table border=\"1\" class=\"dataframe\">\n",
              "  <thead>\n",
              "    <tr style=\"text-align: right;\">\n",
              "      <th></th>\n",
              "      <th>count</th>\n",
              "      <th>mean</th>\n",
              "      <th>std</th>\n",
              "      <th>min</th>\n",
              "      <th>25%</th>\n",
              "      <th>50%</th>\n",
              "      <th>75%</th>\n",
              "      <th>max</th>\n",
              "    </tr>\n",
              "  </thead>\n",
              "  <tbody>\n",
              "    <tr>\n",
              "      <th>Impression</th>\n",
              "      <td>40.0</td>\n",
              "      <td>120512.425000</td>\n",
              "      <td>18807.466616</td>\n",
              "      <td>79034.000000</td>\n",
              "      <td>112692.250000</td>\n",
              "      <td>119291.500000</td>\n",
              "      <td>132050.750000</td>\n",
              "      <td>158606.000000</td>\n",
              "    </tr>\n",
              "    <tr>\n",
              "      <th>Click</th>\n",
              "      <td>40.0</td>\n",
              "      <td>3967.550000</td>\n",
              "      <td>923.071766</td>\n",
              "      <td>1837.000000</td>\n",
              "      <td>3376.500000</td>\n",
              "      <td>3931.500000</td>\n",
              "      <td>4660.250000</td>\n",
              "      <td>6020.000000</td>\n",
              "    </tr>\n",
              "    <tr>\n",
              "      <th>Purchase</th>\n",
              "      <td>40.0</td>\n",
              "      <td>582.050000</td>\n",
              "      <td>161.175164</td>\n",
              "      <td>312.000000</td>\n",
              "      <td>444.750000</td>\n",
              "      <td>551.000000</td>\n",
              "      <td>699.750000</td>\n",
              "      <td>890.000000</td>\n",
              "    </tr>\n",
              "    <tr>\n",
              "      <th>Earning</th>\n",
              "      <td>40.0</td>\n",
              "      <td>2514.890733</td>\n",
              "      <td>282.730852</td>\n",
              "      <td>1939.611243</td>\n",
              "      <td>2280.537426</td>\n",
              "      <td>2544.666107</td>\n",
              "      <td>2761.545405</td>\n",
              "      <td>3171.489708</td>\n",
              "    </tr>\n",
              "    <tr>\n",
              "      <th>Click_Per_Impression</th>\n",
              "      <td>40.0</td>\n",
              "      <td>0.034176</td>\n",
              "      <td>0.012256</td>\n",
              "      <td>0.014735</td>\n",
              "      <td>0.028157</td>\n",
              "      <td>0.031355</td>\n",
              "      <td>0.037262</td>\n",
              "      <td>0.075749</td>\n",
              "    </tr>\n",
              "    <tr>\n",
              "      <th>Purchase_Per_Click</th>\n",
              "      <td>40.0</td>\n",
              "      <td>0.156551</td>\n",
              "      <td>0.068164</td>\n",
              "      <td>0.063645</td>\n",
              "      <td>0.110265</td>\n",
              "      <td>0.146206</td>\n",
              "      <td>0.183013</td>\n",
              "      <td>0.448013</td>\n",
              "    </tr>\n",
              "    <tr>\n",
              "      <th>Earning_Per_Click</th>\n",
              "      <td>40.0</td>\n",
              "      <td>0.668300</td>\n",
              "      <td>0.175652</td>\n",
              "      <td>0.379517</td>\n",
              "      <td>0.550919</td>\n",
              "      <td>0.655944</td>\n",
              "      <td>0.773368</td>\n",
              "      <td>1.244809</td>\n",
              "    </tr>\n",
              "  </tbody>\n",
              "</table>\n",
              "</div>\n",
              "      <button class=\"colab-df-convert\" onclick=\"convertToInteractive('df-0eae4bf9-67d0-4bd5-9bff-3813efa8442b')\"\n",
              "              title=\"Convert this dataframe to an interactive table.\"\n",
              "              style=\"display:none;\">\n",
              "\n",
              "  <svg xmlns=\"http://www.w3.org/2000/svg\" height=\"24px\"viewBox=\"0 0 24 24\"\n",
              "       width=\"24px\">\n",
              "    <path d=\"M0 0h24v24H0V0z\" fill=\"none\"/>\n",
              "    <path d=\"M18.56 5.44l.94 2.06.94-2.06 2.06-.94-2.06-.94-.94-2.06-.94 2.06-2.06.94zm-11 1L8.5 8.5l.94-2.06 2.06-.94-2.06-.94L8.5 2.5l-.94 2.06-2.06.94zm10 10l.94 2.06.94-2.06 2.06-.94-2.06-.94-.94-2.06-.94 2.06-2.06.94z\"/><path d=\"M17.41 7.96l-1.37-1.37c-.4-.4-.92-.59-1.43-.59-.52 0-1.04.2-1.43.59L10.3 9.45l-7.72 7.72c-.78.78-.78 2.05 0 2.83L4 21.41c.39.39.9.59 1.41.59.51 0 1.02-.2 1.41-.59l7.78-7.78 2.81-2.81c.8-.78.8-2.07 0-2.86zM5.41 20L4 18.59l7.72-7.72 1.47 1.35L5.41 20z\"/>\n",
              "  </svg>\n",
              "      </button>\n",
              "\n",
              "\n",
              "\n",
              "    <div id=\"df-5d9fd51f-1b2c-4f9e-803f-34bf0b6bfb56\">\n",
              "      <button class=\"colab-df-quickchart\" onclick=\"quickchart('df-5d9fd51f-1b2c-4f9e-803f-34bf0b6bfb56')\"\n",
              "              title=\"Suggest charts.\"\n",
              "              style=\"display:none;\">\n",
              "\n",
              "<svg xmlns=\"http://www.w3.org/2000/svg\" height=\"24px\"viewBox=\"0 0 24 24\"\n",
              "     width=\"24px\">\n",
              "    <g>\n",
              "        <path d=\"M19 3H5c-1.1 0-2 .9-2 2v14c0 1.1.9 2 2 2h14c1.1 0 2-.9 2-2V5c0-1.1-.9-2-2-2zM9 17H7v-7h2v7zm4 0h-2V7h2v10zm4 0h-2v-4h2v4z\"/>\n",
              "    </g>\n",
              "</svg>\n",
              "      </button>\n",
              "    </div>\n",
              "\n",
              "<style>\n",
              "  .colab-df-quickchart {\n",
              "    background-color: #E8F0FE;\n",
              "    border: none;\n",
              "    border-radius: 50%;\n",
              "    cursor: pointer;\n",
              "    display: none;\n",
              "    fill: #1967D2;\n",
              "    height: 32px;\n",
              "    padding: 0 0 0 0;\n",
              "    width: 32px;\n",
              "  }\n",
              "\n",
              "  .colab-df-quickchart:hover {\n",
              "    background-color: #E2EBFA;\n",
              "    box-shadow: 0px 1px 2px rgba(60, 64, 67, 0.3), 0px 1px 3px 1px rgba(60, 64, 67, 0.15);\n",
              "    fill: #174EA6;\n",
              "  }\n",
              "\n",
              "  [theme=dark] .colab-df-quickchart {\n",
              "    background-color: #3B4455;\n",
              "    fill: #D2E3FC;\n",
              "  }\n",
              "\n",
              "  [theme=dark] .colab-df-quickchart:hover {\n",
              "    background-color: #434B5C;\n",
              "    box-shadow: 0px 1px 3px 1px rgba(0, 0, 0, 0.15);\n",
              "    filter: drop-shadow(0px 1px 2px rgba(0, 0, 0, 0.3));\n",
              "    fill: #FFFFFF;\n",
              "  }\n",
              "</style>\n",
              "\n",
              "    <script>\n",
              "      async function quickchart(key) {\n",
              "        const containerElement = document.querySelector('#' + key);\n",
              "        const charts = await google.colab.kernel.invokeFunction(\n",
              "            'suggestCharts', [key], {});\n",
              "      }\n",
              "    </script>\n",
              "\n",
              "      <script>\n",
              "\n",
              "function displayQuickchartButton(domScope) {\n",
              "  let quickchartButtonEl =\n",
              "    domScope.querySelector('#df-5d9fd51f-1b2c-4f9e-803f-34bf0b6bfb56 button.colab-df-quickchart');\n",
              "  quickchartButtonEl.style.display =\n",
              "    google.colab.kernel.accessAllowed ? 'block' : 'none';\n",
              "}\n",
              "\n",
              "        displayQuickchartButton(document);\n",
              "      </script>\n",
              "      <style>\n",
              "    .colab-df-container {\n",
              "      display:flex;\n",
              "      flex-wrap:wrap;\n",
              "      gap: 12px;\n",
              "    }\n",
              "\n",
              "    .colab-df-convert {\n",
              "      background-color: #E8F0FE;\n",
              "      border: none;\n",
              "      border-radius: 50%;\n",
              "      cursor: pointer;\n",
              "      display: none;\n",
              "      fill: #1967D2;\n",
              "      height: 32px;\n",
              "      padding: 0 0 0 0;\n",
              "      width: 32px;\n",
              "    }\n",
              "\n",
              "    .colab-df-convert:hover {\n",
              "      background-color: #E2EBFA;\n",
              "      box-shadow: 0px 1px 2px rgba(60, 64, 67, 0.3), 0px 1px 3px 1px rgba(60, 64, 67, 0.15);\n",
              "      fill: #174EA6;\n",
              "    }\n",
              "\n",
              "    [theme=dark] .colab-df-convert {\n",
              "      background-color: #3B4455;\n",
              "      fill: #D2E3FC;\n",
              "    }\n",
              "\n",
              "    [theme=dark] .colab-df-convert:hover {\n",
              "      background-color: #434B5C;\n",
              "      box-shadow: 0px 1px 3px 1px rgba(0, 0, 0, 0.15);\n",
              "      filter: drop-shadow(0px 1px 2px rgba(0, 0, 0, 0.3));\n",
              "      fill: #FFFFFF;\n",
              "    }\n",
              "  </style>\n",
              "\n",
              "      <script>\n",
              "        const buttonEl =\n",
              "          document.querySelector('#df-0eae4bf9-67d0-4bd5-9bff-3813efa8442b button.colab-df-convert');\n",
              "        buttonEl.style.display =\n",
              "          google.colab.kernel.accessAllowed ? 'block' : 'none';\n",
              "\n",
              "        async function convertToInteractive(key) {\n",
              "          const element = document.querySelector('#df-0eae4bf9-67d0-4bd5-9bff-3813efa8442b');\n",
              "          const dataTable =\n",
              "            await google.colab.kernel.invokeFunction('convertToInteractive',\n",
              "                                                     [key], {});\n",
              "          if (!dataTable) return;\n",
              "\n",
              "          const docLinkHtml = 'Like what you see? Visit the ' +\n",
              "            '<a target=\"_blank\" href=https://colab.research.google.com/notebooks/data_table.ipynb>data table notebook</a>'\n",
              "            + ' to learn more about interactive tables.';\n",
              "          element.innerHTML = '';\n",
              "          dataTable['output_type'] = 'display_data';\n",
              "          await google.colab.output.renderOutput(dataTable, element);\n",
              "          const docLink = document.createElement('div');\n",
              "          docLink.innerHTML = docLinkHtml;\n",
              "          element.appendChild(docLink);\n",
              "        }\n",
              "      </script>\n",
              "    </div>\n",
              "  </div>\n"
            ]
          },
          "metadata": {},
          "execution_count": 18
        }
      ]
    },
    {
      "cell_type": "markdown",
      "source": [
        "Based on the \"CPI v PPC v EPC\" graph, for the treatment group, it was found that the average impressions on the new platform (TikTok) experienced an increase of 20,000. However, this increase in impressions was not accompanied by a rise in ad clicks. The average number of clicks on paid ads on TikTok decreased compared to Facebook. Nevertheless, despite having fewer clicks, TikTok ads managed to generate a higher average number of purchases and earnings over the 40-day period compared to Facebook ads. This increase amounted to 5% for product sales and 31% for revenue.\n",
        "\n",
        "Due to the lower number of clicks compared to Facebook ads, the click-through rate (CTR) generated by ads on TikTok decreased to 3%. However, as explained earlier, the purchase per click (15%) and earning per click (67%) also experienced an increase. This means that paid ads on TikTok are more effective in persuading users to make purchases based on the ads they have seen, thereby boosting the company's revenue even further.\n",
        "\n",
        "Based on the trend observed in the graph over a 40-day period, it was found that sales using TikTok Ads exhibited a more pronounced positive trend from day 21 to day 28. In contrast, Facebook Ads only experienced an increase on day 21, followed by a fluctuating or random trend. It can be said that during those days, TikTok ads demonstrated a higher effectiveness in capturing the interest of buyers, as they started to become aware of the availability of good products or, in other words, there was an increase in product awareness during those specific days."
      ],
      "metadata": {
        "id": "AEFfV51YROH8"
      }
    },
    {
      "cell_type": "markdown",
      "source": [
        "# A/B Testing"
      ],
      "metadata": {
        "id": "M2fZ2ydjWS2R"
      }
    },
    {
      "cell_type": "markdown",
      "source": [
        "## Assumptions Required"
      ],
      "metadata": {
        "id": "y0qmIAeLYNb7"
      }
    },
    {
      "cell_type": "markdown",
      "source": [
        "In order to apply an AB Test, the **Normality** and **Variance homogeneity** assumptions should be satisfied.\n",
        "\n",
        "If normality and variance homogeneity is **provided**, an independent **two-sample t-test (parametric test)** is applied. If normality and homogeneity of variance are **not provided**, the **Mann-Whitney U test (non-parametric test)** is performed."
      ],
      "metadata": {
        "id": "ohskeOwrYXTW"
      }
    },
    {
      "cell_type": "markdown",
      "source": [
        "### IMPORTANT THINGS TO REMEMBER :\n",
        "1. The Normality assumption assumes that the data in both the control and treatment groups follow a normal distribution. This assumption is important because many statistical tests, such as t-tests, rely on the assumption of normality to accurately analyze the data and make valid inferences. Violations of this assumption can lead to incorrect conclusions.\n",
        "\n",
        "2. The Variance homogeneity assumption states that the variances of the data in the control and treatment groups should be roughly equal. This assumption is crucial because certain statistical tests, like the t-test, assume equal variances when comparing the means of two groups. Violations of this assumption can affect the accuracy and reliability of the test results.\n",
        "\n",
        "3. By ensuring that the Normality and Variance homogeneity assumptions are met, we can have more confidence in the results of an A/B test and make accurate conclusions about the effectiveness of different treatments or interventions. It is important to assess these assumptions prior to conducting an A/B test to ensure the validity of the results and the reliability of the insights gained from the analysis."
      ],
      "metadata": {
        "id": "YrrJ4WlAgKdv"
      }
    },
    {
      "cell_type": "markdown",
      "source": [
        "### 1. Normality Check"
      ],
      "metadata": {
        "id": "hO4TTm07YUyJ"
      }
    },
    {
      "cell_type": "code",
      "source": [
        "import seaborn as sns\n",
        "from scipy.stats import shapiro,levene,ttest_ind, mannwhitneyu"
      ],
      "metadata": {
        "id": "TRcFwhl6a8za"
      },
      "execution_count": null,
      "outputs": []
    },
    {
      "cell_type": "code",
      "source": [
        "cols = ['Impression', 'Click', 'Purchase', 'Earning']\n",
        "for col in cols:\n",
        "    fig, ax = plt.subplots(1, 2)\n",
        "    fig.set_figheight(3.5)\n",
        "    fig.set_figwidth(10)\n",
        "\n",
        "    sns.kdeplot(data=control_df[col], ax=ax[0])\n",
        "    sns.kdeplot(data=treatment_df[col], ax=ax[1])\n",
        "\n",
        "    ax[0].set_title('Control')\n",
        "    ax[1].set_title('Test')\n",
        "\n",
        "    plt.show()"
      ],
      "metadata": {
        "colab": {
          "base_uri": "https://localhost:8080/"
        },
        "id": "kPxgxcCw3yI2",
        "outputId": "df97d700-99d0-473d-f684-355244242df1"
      },
      "execution_count": null,
      "outputs": [
        {
          "output_type": "display_data",
          "data": {
            "text/plain": [
              "<Figure size 1000x350 with 2 Axes>"
            ],
            "image/png": "[encoded data removed]"
          },
          "metadata": {}
        },
        {
          "output_type": "display_data",
          "data": {
            "text/plain": [
              "<Figure size 1000x350 with 2 Axes>"
            ],
            "image/png": "[encoded data removed]"
          },
          "metadata": {}
        },
        {
          "output_type": "display_data",
          "data": {
            "text/plain": [
              "<Figure size 1000x350 with 2 Axes>"
            ],
            "image/png": "[encoded data removed]"
          },
          "metadata": {}
        },
        {
          "output_type": "display_data",
          "data": {
            "text/plain": [
              "<Figure size 1000x350 with 2 Axes>"
            ],
            "image/png": "[encoded data removed]"
          },
          "metadata": {}
        }
      ]
    },
    {
      "cell_type": "markdown",
      "source": [
        "From this graph, it is evident that the distribution of data for each variable in the control and treatment data groups follows a normal distribution. However, to ensure the accuracy of these data distributions, it would be better to use the `Shapiro-Wilks test` to examine the validity of the data distribution."
      ],
      "metadata": {
        "id": "oUsk7swYd3oq"
      }
    },
    {
      "cell_type": "markdown",
      "source": [
        "The **Shapiro-Wilks Test** will be applied for the Normality\n",
        "\n",
        "H0 : There is no statistically significant difference between sample distribution and theoretical normal distribution **IN OTHER WORDS** The data are drawn from a normally distributed population.\n",
        "\n",
        "H1 : There is statistically significant difference between sample distribution and theoretical normal distribution **IN OTHER WORDS** The data are not drawn from a normally distributed population.\n",
        "\n",
        "`With alpha = 0.05,`\n",
        "\n",
        "**H0 is rejected if the p_value is less than 0.05.**"
      ],
      "metadata": {
        "id": "4JjjTedbYws6"
      }
    },
    {
      "cell_type": "code",
      "source": [
        "print('Control Group \\n')\n",
        "for col in cols:\n",
        "    test_stat, pvalue = shapiro(control_df[col])\n",
        "    print(col)\n",
        "    print('Test Stat = %.4f, p-value = %.4f \\n' % (test_stat, pvalue))"
      ],
      "metadata": {
        "colab": {
          "base_uri": "https://localhost:8080/"
        },
        "id": "BFNda4YyeLZn",
        "outputId": "27b44aff-708b-4342-9583-e7d7616aabb8"
      },
      "execution_count": null,
      "outputs": [
        {
          "output_type": "stream",
          "name": "stdout",
          "text": [
            "Control Group \n",
            "\n",
            "Impression\n",
            "Test Stat = 0.9697, p-value = 0.3514 \n",
            "\n",
            "Click\n",
            "Test Stat = 0.9844, p-value = 0.8458 \n",
            "\n",
            "Purchase\n",
            "Test Stat = 0.9774, p-value = 0.5929 \n",
            "\n",
            "Earning\n",
            "Test Stat = 0.9756, p-value = 0.5306 \n",
            "\n"
          ]
        }
      ]
    },
    {
      "cell_type": "code",
      "source": [
        "print('Treatment Group \\n')\n",
        "for col in cols:\n",
        "    test_stat, pvalue = shapiro(treatment_df[col])\n",
        "    print(col)\n",
        "    print('Test Stat = %.4f, p-value = %.4f \\n' % (test_stat, pvalue) )"
      ],
      "metadata": {
        "colab": {
          "base_uri": "https://localhost:8080/"
        },
        "id": "VWSh2lQEehNp",
        "outputId": "8a8a8a77-ad47-46ca-c190-d16a506dc6be"
      },
      "execution_count": null,
      "outputs": [
        {
          "output_type": "stream",
          "name": "stdout",
          "text": [
            "Treatment Group \n",
            "\n",
            "Impression\n",
            "Test Stat = 0.9720, p-value = 0.4148 \n",
            "\n",
            "Click\n",
            "Test Stat = 0.9896, p-value = 0.9700 \n",
            "\n",
            "Purchase\n",
            "Test Stat = 0.9589, p-value = 0.1541 \n",
            "\n",
            "Earning\n",
            "Test Stat = 0.9780, p-value = 0.6163 \n",
            "\n"
          ]
        }
      ]
    },
    {
      "cell_type": "markdown",
      "source": [
        "Based on the distribution graphs and the information obtained from the Shapiro-Wilk test, it can be concluded that all variables in both the control and treatment groups have p-values above 0.05, indicating that their data distributions follow a **normal distribution**.\n",
        "\n",
        "\n",
        "***Conclusions*** : **H0 is not rejected**. So there is not enough evidence that there is statistically significant difference between sample distribution and theoretical normal distribution. So, the data are drawn from a normally distributed population"
      ],
      "metadata": {
        "id": "3rsN9tfRfBKM"
      }
    },
    {
      "cell_type": "markdown",
      "source": [
        "### 2. Variance Homogenity"
      ],
      "metadata": {
        "id": "4FnpnuGjgk-R"
      }
    },
    {
      "cell_type": "markdown",
      "source": [
        "`Levene’s Test` will be applied for the Homogeneity of variances\n",
        "\n",
        "H0: There is no statistically significant difference between the variance of variance of the related variables of the 2 groups `IN OTHER WORDS` The variances of the groups are equal.\n",
        "\n",
        "H1: There is a statistically significant difference between the variance of variance of the related variables of the 2 groups `IN OTHER WORDS` The variances of the groups are not equal.\n",
        "\n",
        "`With alpha = 0.05,`\n",
        "\n",
        "**H0 is rejected if the p_value is less than 0.05.**\n"
      ],
      "metadata": {
        "id": "feakT9lBg24-"
      }
    },
    {
      "cell_type": "code",
      "source": [
        "for col in cols:\n",
        "    ttest_lev, p_value_lev = levene (control_df[col], treatment_df[col])\n",
        "    print(col)\n",
        "    print (\"Ftest statistics: {}\\np_value: {}\\n\".format (ttest_lev, p_value_lev))"
      ],
      "metadata": {
        "colab": {
          "base_uri": "https://localhost:8080/"
        },
        "id": "9YhpKMlZfAZ2",
        "outputId": "2033142e-8c41-4d4b-9a67-97a0bdf3d43d"
      },
      "execution_count": null,
      "outputs": [
        {
          "output_type": "stream",
          "name": "stdout",
          "text": [
            "Impression\n",
            "Ftest statistics: 0.5864209562748677\n",
            "p_value: 0.4461176210531458\n",
            "\n",
            "Click\n",
            "Ftest statistics: 6.307972266621279\n",
            "p_value: 0.014085731864525894\n",
            "\n",
            "Purchase\n",
            "Ftest statistics: 2.640298470042385\n",
            "p_value: 0.10821824555495507\n",
            "\n",
            "Earning\n",
            "Ftest statistics: 0.35323781392537446\n",
            "p_value: 0.5540060067717659\n",
            "\n"
          ]
        }
      ]
    },
    {
      "cell_type": "markdown",
      "source": [
        "The obtained p-values, **except for Click**, exceed the significance level of 0.05, indicating that **we fail to reject the null hypothesis (H0)**. Consequently, we conclude that there is **no** statistically significant difference between the variance distributions of the Impression, Purchase, and Earning values in the two groups.\n",
        "\n",
        "**However**, the p-value for Click is below 0.05, **leading us to reject the null hypothesis (H0)**. This suggests that **there is a statistically significant difference in the variance distributions** of the Click values between the two groups."
      ],
      "metadata": {
        "id": "Y-oFtcLUiPgl"
      }
    },
    {
      "cell_type": "markdown",
      "source": [
        "## Implementation"
      ],
      "metadata": {
        "id": "v_n_ck8jj7I3"
      }
    },
    {
      "cell_type": "markdown",
      "source": [
        "Since the Impression, Purchase, and Earning variables satisfy the assumptions of normality and variance homogeneity, an independent two-sample t-test / Pooled Variance T-test (parametric test) will be used.\n",
        "\n",
        "However, despite the assumption of normality being met for the Click variable, the assumption of variance homogeneity is violated. This indicates that the variances of the Click variable differ significantly between the two groups. So, it is recommended to employ the separate variance T-test, also known as Welch's T-test."
      ],
      "metadata": {
        "id": "b0Qui7jQmT90"
      }
    },
    {
      "cell_type": "markdown",
      "source": [
        "### 1. Pooled Variance T-test"
      ],
      "metadata": {
        "id": "U0dCRkhDkLh0"
      }
    },
    {
      "cell_type": "markdown",
      "source": [
        "`Mean` -> `Independent` -> `Variance Unknown` -> Normally distributed and variance homogenity are tested (Pass the test) -> Want to test the mean and assume that they have equal Population Variance -> `Pooled Variance T-test` (Parametric Test)"
      ],
      "metadata": {
        "id": "Qt0qEC79mI_2"
      }
    },
    {
      "cell_type": "markdown",
      "source": [
        "The Independent Two-Sample T Test compares the means of two independent groups in order to determine whether there is statistical evidence that the associated population means are significantly different.\n",
        "```\n",
        "Hypotheses :\n",
        "\n",
        "H0: μ_facebook ≥ μ_tiktok (The mean from Facebook Ads is greater than or equal to the mean from Tiktok Ads.)\n",
        "\n",
        "H1: μ_facebook < μ_tiktok (The mean from Facebook Ads is less than the mean from Tiktok Ads.)\n",
        "```"
      ],
      "metadata": {
        "id": "MuUExVeoqL4G"
      }
    },
    {
      "cell_type": "markdown",
      "source": [
        "#### Impression"
      ],
      "metadata": {
        "id": "WK5If3G6qhiK"
      }
    },
    {
      "cell_type": "code",
      "source": [
        "ttest_ind_Imp, p_value_ind_Imp = ttest_ind (control_df[\"Impression\"], treatment_df[\"Impression\"], equal_var=True, alternative='less')\n",
        "print (\"ttest statistics: {}\\np_value: {}\".format (ttest_ind_Imp, p_value_ind_Imp))"
      ],
      "metadata": {
        "colab": {
          "base_uri": "https://localhost:8080/"
        },
        "id": "AKA6Vbg9iPDa",
        "outputId": "91f64355-26cb-4378-9692-01af46f4320d"
      },
      "execution_count": null,
      "outputs": [
        {
          "output_type": "stream",
          "name": "stdout",
          "text": [
            "ttest statistics: -4.296602570348743\n",
            "p_value: 2.4773329662602926e-05\n"
          ]
        }
      ]
    },
    {
      "cell_type": "markdown",
      "source": [
        "Conclusion: Based on the Pooled Variance T-test results, with a t-test statistic of -4.2966 and a p-value of 2.4773e-05, we can reject the null hypothesis (H0). This provides strong evidence to suggest that the mean impression from Facebook Ads is significantly less than the mean impression from TikTok Ads.\n",
        "\n",
        "The negative t-test statistic indicates that the mean impression from Facebook Ads is lower than the mean impression from TikTok Ads. The very low p-value suggests that the observed difference in means is highly unlikely to occur by chance alone.\n",
        "\n",
        "These findings indicate that TikTok Ads have a greater impact in terms of impressions compared to Facebook Ads. Businesses or advertisers may consider allocating more resources to TikTok Ads to maximize their reach and exposure, as it appears to yield a higher average impression.\n",
        "\n",
        "In summary, the Pooled Variance T-test results support the conclusion that the mean impression from Facebook Ads is significantly lower than the mean impression from TikTok Ads. This information can guide marketers and advertisers in making informed decisions about their advertising strategies and budget allocation."
      ],
      "metadata": {
        "id": "Ynsu-RAfq-jZ"
      }
    },
    {
      "cell_type": "markdown",
      "source": [
        "#### Purchase"
      ],
      "metadata": {
        "id": "Ie2Z4Ew7qpol"
      }
    },
    {
      "cell_type": "code",
      "source": [
        "ttest_ind_pur, p_value_ind_pur = ttest_ind (control_df[\"Purchase\"], treatment_df[\"Purchase\"], equal_var=True, alternative='less')\n",
        "print (\"ttest statistics: {}\\np_value: {}\".format (ttest_ind_pur, p_value_ind_pur))"
      ],
      "metadata": {
        "colab": {
          "base_uri": "https://localhost:8080/"
        },
        "id": "gE-zsPc5qglC",
        "outputId": "af8b2b83-9a32-4184-b976-4fd1301d24fc"
      },
      "execution_count": null,
      "outputs": [
        {
          "output_type": "stream",
          "name": "stdout",
          "text": [
            "ttest statistics: -0.9396022967737262\n",
            "p_value: 0.1751611381967787\n"
          ]
        }
      ]
    },
    {
      "cell_type": "markdown",
      "source": [
        "Conclusion: Based on the Pooled Variance T-test results, with a t-test statistic of -0.9396 and a p-value of 0.1752, we fail to reject the null hypothesis (H0). This indicates that there is not enough evidence to suggest a significant difference in the mean number of purchases between Facebook Ads and TikTok Ads.\n",
        "\n",
        "The t-test statistic being close to zero and the p-value being relatively high suggest that any observed difference in means is likely due to random variation rather than a true difference between the two groups.\n",
        "\n",
        "These findings indicate that the mean number of purchases from Facebook Ads is not significantly different from the mean number of purchases from TikTok Ads. Therefore, both advertising platforms may have a similar impact in terms of generating sales for the company.\n",
        "\n",
        "In summary, based on the Pooled Variance T-test results and the provided hypothesis, we do not find sufficient evidence to support the claim that the mean number of purchases differs between Facebook Ads and TikTok Ads. This information suggests that the effectiveness of the two platforms in driving purchase behavior may be comparable."
      ],
      "metadata": {
        "id": "pp9Tbicir6Xx"
      }
    },
    {
      "cell_type": "markdown",
      "source": [
        "#### Earning"
      ],
      "metadata": {
        "id": "FF7gVzUUq0rq"
      }
    },
    {
      "cell_type": "code",
      "source": [
        "ttest_ind_earn, p_value_ind_earn = ttest_ind (control_df[\"Earning\"], treatment_df[\"Earning\"], equal_var=True, alternative='less')\n",
        "print (\"ttest statistics: {}\\np_value: {}\".format (ttest_ind_earn, p_value_ind_earn))"
      ],
      "metadata": {
        "colab": {
          "base_uri": "https://localhost:8080/"
        },
        "id": "qYs5tlMoq2cB",
        "outputId": "20fa2261-662b-4d61-e5f3-2605ee15ed9e"
      },
      "execution_count": null,
      "outputs": [
        {
          "output_type": "stream",
          "name": "stdout",
          "text": [
            "ttest statistics: -9.254514649275333\n",
            "p_value: 1.732329764230639e-14\n"
          ]
        }
      ]
    },
    {
      "cell_type": "markdown",
      "source": [
        "Conclusion: Based on the Pooled Variance T-test results, with a t-test statistic of -9.2545 and an extremely low p-value of 1.7323e-14, we can confidently reject the null hypothesis (H0). This provides strong evidence to suggest that the mean revenue (earning) from Facebook Ads is significantly less than the mean revenue from TikTok Ads.\n",
        "\n",
        "The highly negative t-test statistic indicates that the mean revenue from Facebook Ads is substantially lower than the mean revenue from TikTok Ads. The extremely low p-value suggests that the observed difference in means is highly unlikely to occur by chance alone.\n",
        "\n",
        "These findings indicate that TikTok Ads generate significantly higher revenue compared to Facebook Ads. Businesses or advertisers may consider focusing more on TikTok Ads to maximize their revenue potential.\n",
        "\n",
        "In summary, the Pooled Variance T-test results support the conclusion that the mean revenue from Facebook Ads is significantly lower than the mean revenue from TikTok Ads. This information can guide marketers and advertisers in making informed decisions about their advertising strategies and resource allocation to optimize revenue generation."
      ],
      "metadata": {
        "id": "83CAbHgGsSck"
      }
    },
    {
      "cell_type": "markdown",
      "source": [
        "### 2. Separated Variance T-test"
      ],
      "metadata": {
        "id": "xFSylJyIw2xl"
      }
    },
    {
      "cell_type": "markdown",
      "source": [
        "The separate variance T-test, also known as Welch's T-test, is a statistical test used to compare the means of two independent groups when the assumption of equal variances is violated. It is a robust alternative to the standard T-test when the variances between the groups are significantly different.\n",
        "\n",
        "```\n",
        "Hypotheses :\n",
        "\n",
        "H0: μ_facebook ≥ μ_tiktok (The mean from Facebook Ads is greater than or equal to the mean from Tiktok Ads.)\n",
        "\n",
        "H1: μ_facebook < μ_tiktok (The mean from Facebook Ads is less than the mean from Tiktok Ads.)\n",
        "```"
      ],
      "metadata": {
        "id": "-nNeANo7w76o"
      }
    },
    {
      "cell_type": "code",
      "source": [
        "ttest_ind_earn, p_value_ind_earn = ttest_ind (control_df[\"Click\"], treatment_df[\"Click\"], equal_var=False, alternative='less')\n",
        "print (\"ttest statistics: {}\\np_value: {}\".format (ttest_ind_earn, p_value_ind_earn))"
      ],
      "metadata": {
        "colab": {
          "base_uri": "https://localhost:8080/"
        },
        "id": "9EWnM3Gls-RD",
        "outputId": "a77be7c3-dd37-4490-a19a-0e79481b840f"
      },
      "execution_count": null,
      "outputs": [
        {
          "output_type": "stream",
          "name": "stdout",
          "text": [
            "ttest statistics: 4.4265730933875185\n",
            "p_value: 0.9999826434924136\n"
          ]
        }
      ]
    },
    {
      "cell_type": "markdown",
      "source": [
        "Conclusion: Based on the Separated Variance T-test results, with a t-test statistic of 4.4266 and a p-value of 0.99998, we fail to reject the null hypothesis (H0). This indicates that there is not enough evidence to suggest a significant difference in the mean number of clicks between Facebook Ads and TikTok Ads.\n",
        "\n",
        "The positive t-test statistic suggests that the mean number of clicks from Facebook Ads is slightly higher than the mean number of clicks from TikTok Ads. However, the very high p-value indicates that this observed difference is likely due to random variation and not a true difference between the two groups.\n",
        "\n",
        "These findings indicate that the mean number of clicks from Facebook Ads is not significantly different from the mean number of clicks from TikTok Ads. Both advertising platforms may have a similar impact in terms of generating user engagement and clicks.\n",
        "\n",
        "In summary, based on the Separated Variance T-test results and the provided hypothesis, we do not find sufficient evidence to support the claim that the mean number of clicks differs between Facebook Ads and TikTok Ads. This suggests that the effectiveness of the two platforms in driving click-through rates may be comparable."
      ],
      "metadata": {
        "id": "nesLwJMUw_Hu"
      }
    },
    {
      "cell_type": "markdown",
      "source": [
        "### Additional test for proportion (Rate)"
      ],
      "metadata": {
        "id": "GKakS_YeyQuH"
      }
    },
    {
      "cell_type": "markdown",
      "source": [
        "**Two Group Ratio Comparison (Two Sample Ratio Test)**"
      ],
      "metadata": {
        "id": "7h38xtynyXIl"
      }
    },
    {
      "cell_type": "markdown",
      "source": [
        "The reason to use the Z-proportion test for comparing the rate between two groups, is as follows:\n",
        "\n",
        "1. Categorical Data: Click_Per_Impression (or other rates) is a categorical variable representing the proportion or rate of a certain event.\n",
        "For example : click per impression; It is a binary outcome, indicating whether a click occurred or not. **Categorical variables are often analyzed using proportion-based tests**.\n",
        "\n",
        "2. Two Independent Groups: The Z-proportion test is suitable for comparing proportions between two independent groups. It allows you to assess if there is a statistically significant difference in the proportions or rates of a specific categorical variable between the two groups.\n"
      ],
      "metadata": {
        "id": "N2MJBEvdynE0"
      }
    },
    {
      "cell_type": "markdown",
      "source": [
        "### Manually checking for the mean"
      ],
      "metadata": {
        "id": "jiGHmKqEzj8C"
      }
    },
    {
      "cell_type": "code",
      "source": [
        "control_df[\"Click_Per_Impression\"].mean(),treatment_df[\"Click_Per_Impression\"].mean()"
      ],
      "metadata": {
        "colab": {
          "base_uri": "https://localhost:8080/"
        },
        "id": "F87_4o0VzpTX",
        "outputId": "b491144e-a725-4d91-f2c4-20c83ef00ff8"
      },
      "execution_count": null,
      "outputs": [
        {
          "output_type": "execute_result",
          "data": {
            "text/plain": [
              "(0.05361771682371008, 0.03417596901675688)"
            ]
          },
          "metadata": {},
          "execution_count": 28
        }
      ]
    },
    {
      "cell_type": "code",
      "source": [
        "control_df[\"Purchase_Per_Click\"].mean(),treatment_df[\"Purchase_Per_Click\"].mean()"
      ],
      "metadata": {
        "colab": {
          "base_uri": "https://localhost:8080/"
        },
        "id": "5OYf2gWiztmD",
        "outputId": "6c008217-c5a2-4f21-ea26-4581e0b40220"
      },
      "execution_count": null,
      "outputs": [
        {
          "output_type": "execute_result",
          "data": {
            "text/plain": [
              "(0.11592362548153431, 0.156550878774025)"
            ]
          },
          "metadata": {},
          "execution_count": 29
        }
      ]
    },
    {
      "cell_type": "code",
      "source": [
        "control_df[\"Earning_Per_Click\"].mean(),treatment_df[\"Earning_Per_Click\"].mean()"
      ],
      "metadata": {
        "colab": {
          "base_uri": "https://localhost:8080/"
        },
        "id": "Ji9aoU9kzuAI",
        "outputId": "2719d676-2981-4dac-c8fa-02444f38a0d2"
      },
      "execution_count": null,
      "outputs": [
        {
          "output_type": "execute_result",
          "data": {
            "text/plain": [
              "(0.4083546630067011, 0.6683004095017122)"
            ]
          },
          "metadata": {},
          "execution_count": 30
        }
      ]
    },
    {
      "cell_type": "markdown",
      "source": [
        "- Click_Per_Impression : The averages of the two groups seem to close.\n",
        "- Purchase_Per_Click : The averages of the two groups seem to close.\n",
        "- Earning_Per_Click : The averages of the two groups seem to be differ."
      ],
      "metadata": {
        "id": "iVcIhCzuz5aA"
      }
    },
    {
      "cell_type": "markdown",
      "source": [
        "### Using the Z-proportion Test"
      ],
      "metadata": {
        "id": "YECYEiRh0F-p"
      }
    },
    {
      "cell_type": "markdown",
      "source": [
        "`With alpha = 0.05`\n",
        "\n",
        "```\n",
        "Hypotheses:\n",
        "\n",
        "H0: The proportion in Facebook Ads is greater than or equal to the proportion in Tiktok Ads.\n",
        "\n",
        "H1: The proportion in Facebook Ads is less than the proportion in Tiktok Ads.\n",
        "```"
      ],
      "metadata": {
        "id": "iwVOUvPX10F4"
      }
    },
    {
      "cell_type": "code",
      "source": [
        "from statsmodels.stats.proportion import proportions_ztest"
      ],
      "metadata": {
        "id": "edQbkP4Q01AQ"
      },
      "execution_count": null,
      "outputs": []
    },
    {
      "cell_type": "code",
      "source": [
        "purchase_sum = np.array([control_df[\"Purchase\"].sum(), treatment_df[\"Purchase\"].sum()])\n",
        "\n",
        "click_sum = np.array([control_df[\"Click\"].sum(), treatment_df[\"Click\"].sum()])\n",
        "\n",
        "impression_sum = np.array([control_df[\"Impression\"].sum(), treatment_df[\"Impression\"].sum()])\n",
        "\n",
        "earning_sum = np.array([control_df[\"Earning\"].sum(), treatment_df[\"Earning\"].sum()])"
      ],
      "metadata": {
        "id": "MH36311v0Eog"
      },
      "execution_count": null,
      "outputs": []
    },
    {
      "cell_type": "markdown",
      "source": [
        "#### Click Per Impression"
      ],
      "metadata": {
        "id": "dCjRLS2H0tc3"
      }
    },
    {
      "cell_type": "code",
      "source": [
        "ztest_click_imp, p_click_imp = proportions_ztest (click_sum, impression_sum,alternative='smaller')\n",
        "print('Test Stat = %.4f, p-value = %.4f' % (ztest_click_imp, p_click_imp))"
      ],
      "metadata": {
        "colab": {
          "base_uri": "https://localhost:8080/"
        },
        "id": "22KmrbRQ0wVU",
        "outputId": "96f4d8e7-87ab-427a-a499-56ad0c023145"
      },
      "execution_count": null,
      "outputs": [
        {
          "output_type": "stream",
          "name": "stdout",
          "text": [
            "Test Stat = 129.3283, p-value = 1.0000\n"
          ]
        }
      ]
    },
    {
      "cell_type": "markdown",
      "source": [
        "**Conclusions**\n",
        "\n",
        "Based on the Z Proportion Test results, with a test statistic of 129.3283 and a p-value of 1.0000, we fail to reject the null hypothesis (H0). This suggests that there is not enough evidence to support the claim that the proportion of clicks per impression in Facebook Ads is significantly lower than the proportion in TikTok Ads.\n",
        "\n",
        "The test statistic being significantly high and the p-value being equal to 1.0000 indicate that the observed difference in proportions is highly likely due to random variation and not a true difference between the two groups.\n",
        "\n",
        "From a statistical perspective, these findings suggest that the proportion of clicks per impression in Facebook Ads is comparable to or potentially higher than the proportion in TikTok Ads. However, it is important to note that the lack of evidence for a significant difference does not necessarily imply that the proportions are exactly equal.\n",
        "\n",
        "In terms of marketing implications, this suggests that both Facebook Ads and TikTok Ads have similar effectiveness in terms of generating clicks relative to impressions. Businesses or advertisers can consider utilizing either platform based on their specific goals, target audience, and campaign objectives.\n",
        "\n",
        "In summary, based on the Z Proportion Test results and the provided hypothesis, we do not find sufficient evidence to support the claim that the proportion of clicks per impression in Facebook Ads is significantly lower than the proportion in TikTok Ads. This information indicates that both platforms offer potential opportunities for generating user engagement and click-through rates."
      ],
      "metadata": {
        "id": "B5cuSuM_jVdL"
      }
    },
    {
      "cell_type": "markdown",
      "source": [
        "#### Purchase Per Click"
      ],
      "metadata": {
        "id": "TXheufsx0-sj"
      }
    },
    {
      "cell_type": "code",
      "source": [
        "ztest_purchase_clk, p_purchase_clk = proportions_ztest (purchase_sum, click_sum,alternative='smaller')\n",
        "print('Test Stat = %.4f, p-value = %.4f' % (ztest_purchase_clk, p_purchase_clk))"
      ],
      "metadata": {
        "colab": {
          "base_uri": "https://localhost:8080/"
        },
        "outputId": "9d7e9f35-353a-4028-ef82-f7a46ca6c1cc",
        "id": "OxLw_zd70-su"
      },
      "execution_count": null,
      "outputs": [
        {
          "output_type": "stream",
          "name": "stdout",
          "text": [
            "Test Stat = -34.9661, p-value = 0.0000\n"
          ]
        }
      ]
    },
    {
      "cell_type": "markdown",
      "source": [
        "**Conclusions**\n",
        "\n",
        "Based on the results of the test, with a test statistic of -34.9661 and a p-value of 0.0000, we reject the null hypothesis (H0). This provides strong evidence to suggest that the proportion of purchases per click in Facebook Ads is significantly lower than the proportion in TikTok Ads.\n",
        "\n",
        "The negative test statistic indicates that the proportion of purchases per click in Facebook Ads is lower compared to TikTok Ads. The extremely low p-value suggests that the observed difference in proportions is highly unlikely to occur by chance alone.\n",
        "\n",
        "From a statistical perspective, these findings indicate that TikTok Ads have a higher conversion rate in terms of purchases per click compared to Facebook Ads. This suggests that TikTok Ads may be more effective in driving purchase behavior among users.\n",
        "\n",
        "From a marketing standpoint, this information highlights the potential benefits of utilizing TikTok Ads for achieving higher conversion rates and maximizing return on investment. Advertisers or businesses can consider allocating more resources to TikTok Ads to capitalize on its higher conversion potential.\n",
        "\n",
        "In summary, based on the Z Proportion Test results and the provided hypothesis, we find strong evidence to support the claim that the proportion of purchases per click in TikTok Ads is significantly higher than in Facebook Ads. This insight can guide marketers and advertisers in making informed decisions about their advertising strategies and resource allocation to optimize conversion rates and overall marketing effectiveness."
      ],
      "metadata": {
        "id": "f-ivjMXQkS1r"
      }
    },
    {
      "cell_type": "markdown",
      "source": [
        "#### Earning Per Click"
      ],
      "metadata": {
        "id": "JQm036Z10-xU"
      }
    },
    {
      "cell_type": "code",
      "source": [
        "ztest_earn_clk, p_earn_clk = proportions_ztest (earning_sum, click_sum,alternative='smaller')\n",
        "print('Test Stat = %.4f, p-value = %.4f' % (ztest_earn_clk, p_earn_clk))"
      ],
      "metadata": {
        "colab": {
          "base_uri": "https://localhost:8080/"
        },
        "outputId": "6c5b5783-ae69-4288-e65a-0374997bc558",
        "id": "THagjbQ_0-xV"
      },
      "execution_count": null,
      "outputs": [
        {
          "output_type": "stream",
          "name": "stdout",
          "text": [
            "Test Stat = -155.2185, p-value = 0.0000\n"
          ]
        }
      ]
    },
    {
      "cell_type": "markdown",
      "source": [
        "**Conclusions**\n",
        "\n",
        "Based on the Z Proportion Test results, with a test statistic of -155.2185 and a p-value of 0.0000, we reject the null hypothesis (H0) and find compelling evidence to support the alternative hypothesis (H1). This indicates that the proportion of earnings per click in Facebook Ads is significantly lower than the proportion in TikTok Ads.\n",
        "\n",
        "The highly negative test statistic suggests that the proportion of earnings per click in Facebook Ads is considerably lower compared to TikTok Ads. The extremely low p-value indicates that the observed difference in proportions is highly unlikely to occur by chance alone.\n",
        "\n",
        "From a statistical perspective, these findings provide robust evidence to suggest that TikTok Ads outperform Facebook Ads in terms of generating higher earnings per click. This indicates that TikTok Ads may be more effective in driving revenue generation from user engagement.\n",
        "\n",
        "From a marketing standpoint, this information highlights the potential advantages of utilizing TikTok Ads for maximizing revenue and return on investment. Advertisers or businesses can consider allocating more resources to TikTok Ads to capitalize on its higher earning potential per click.\n",
        "\n",
        "In summary, based on the Z Proportion Test results and the provided hypothesis, we find strong evidence to support the claim that the proportion of earnings per click in TikTok Ads is significantly higher than in Facebook Ads. This insight can guide marketers and advertisers in making informed decisions about their advertising strategies and resource allocation to optimize revenue generation and overall marketing effectiveness."
      ],
      "metadata": {
        "id": "NC6rp9CL2I3D"
      }
    },
    {
      "cell_type": "markdown",
      "source": [
        "# Summary and Further"
      ],
      "metadata": {
        "id": "5jcu5-LRlD-A"
      }
    },
    {
      "cell_type": "markdown",
      "source": [
        "## **Recall from what I have found**"
      ],
      "metadata": {
        "id": "-ZaGIyvjmfyv"
      }
    },
    {
      "cell_type": "markdown",
      "source": [
        "1. Which of these two options will increase our number of earnings?\n",
        "\n",
        "- The goal of the experimentation was to determine which advertising platform would increase earnings. After conducting the analysis, we found compelling evidence to support the superiority of TikTok Ads over Facebook Ads in terms of revenue generation.\n",
        "\n",
        "- Using the Pooled Variance T-test, we compared the mean revenue from both platforms. The test yielded a highly negative t-test statistic of -9.2545 and an extremely low p-value of 1.7323e-14. These results allowed us to confidently reject the null hypothesis (H0) and conclude that the mean revenue from Facebook Ads is significantly lower than the mean revenue from TikTok Ads.\n",
        "\n",
        "- The substantial difference in means indicates that TikTok Ads outperform Facebook Ads in terms of generating revenue. This finding suggests that businesses should prioritize investing resources in TikTok Ads to maximize their earning potential.\n",
        "\n",
        "- In summary, the experimentation clearly demonstrated that TikTok Ads are more effective in driving revenue compared to Facebook Ads. This information provides valuable insights for marketers and advertisers, enabling them to make informed decisions and allocate resources strategically to optimize revenue generation."
      ],
      "metadata": {
        "id": "MTMowDkZmDS0"
      }
    },
    {
      "cell_type": "markdown",
      "source": [
        "2. Which of these two options will increase our number of CTR?\n",
        "\n",
        "- The objective of the experimentation was to determine which advertising platform would yield a higher click-through rate (CTR). After conducting the analysis, we found that there is not enough evidence to support the claim that the proportion of clicks per impression in Facebook Ads is significantly lower than in TikTok Ads.\n",
        "\n",
        "- Using the Z Proportion Test, we compared the proportions of clicks per impression between the two platforms. The test yielded a test statistic of 129.3283 and a p-value of 1.0000. These results indicate that the observed difference in proportions is highly likely due to random variation and not a true difference between the groups.\n",
        "\n",
        "- From a statistical perspective, this suggests that the proportion of clicks per impression in Facebook Ads is comparable to or potentially higher than in TikTok Ads. However, it is important to note that the lack of evidence for a significant difference does not necessarily imply that the proportions are exactly equal.\n",
        "\n",
        "- From a marketing standpoint, these findings imply that both Facebook Ads and TikTok Ads can be effective in generating user engagement and click-through rates. Businesses and advertisers can consider utilizing either platform based on their specific goals, target audience, and campaign objectives.\n",
        "\n",
        "- In summary, the experimentation did not provide sufficient evidence to support the claim of a significant difference in the proportion of clicks per impression between Facebook Ads and TikTok Ads. This information highlights the potential opportunities for businesses to leverage both platforms to drive user engagement and CTR."
      ],
      "metadata": {
        "id": "DKwhLmMomjDI"
      }
    },
    {
      "cell_type": "markdown",
      "source": [
        "3. Is there a significant difference between the two options?\n",
        "\n",
        "- The experimentation aimed to investigate whether there is a significant difference between the two options being evaluated. Based on the findings, the results differ depending on the specific analysis conducted.\n",
        "\n",
        "- Regarding revenue generation, the Pooled Variance T-test demonstrated strong evidence to support a significant difference between Facebook Ads and TikTok Ads. The mean revenue from Facebook Ads was found to be significantly lower than the mean revenue from TikTok Ads, indicating that TikTok Ads offer greater potential for generating earnings.\n",
        "\n",
        "- On the other hand, when examining the click-through rate (CTR) using the Z Proportion Test, there was not enough evidence to support a significant difference between the two platforms. This suggests that the proportion of clicks per impression in Facebook Ads is comparable to or potentially higher than in TikTok Ads, indicating similar effectiveness in terms of generating user engagement.\n",
        "\n",
        "- To answer the question of whether there is a significant difference between the two options, the analysis yields mixed results. There is a significant difference in terms of revenue generation, favoring TikTok Ads. However, there is no significant difference in the click-through rate, indicating similar performance between Facebook Ads and TikTok Ads in that regard.\n",
        "\n",
        "- Ultimately, the decision of which option to choose will depend on the specific goals, target audience, and campaign objectives of the business. Considerations should be given to the potential for higher earnings with TikTok Ads and the comparable user engagement offered by both platforms in terms of CTR."
      ],
      "metadata": {
        "id": "xWzKNsXxlG1C"
      }
    }
  ]
}